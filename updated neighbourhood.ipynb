{
 "cells": [
  {
   "cell_type": "markdown",
   "metadata": {},
   "source": [
    "#### Creating a fucntion to read the CSV files for each city and put them in one dataframe"
   ]
  },
  {
   "cell_type": "markdown",
   "metadata": {},
   "source": [
    "### Merging CSV files and creating one dataframe"
   ]
  },
  {
   "cell_type": "code",
   "execution_count": null,
   "metadata": {},
   "outputs": [],
   "source": [
    "from functions_main import *\n"
   ]
  },
  {
   "cell_type": "code",
   "execution_count": null,
   "metadata": {},
   "outputs": [],
   "source": [
    "#Calling the function for Rome\n",
    "file_list = ['data/rome_listing_Q1_24.csv', 'data/rome_listing_Q4_23.csv', 'data/rome_listing_Q3_23.csv', 'data/rome_listing_Q2_23.csv']\n",
    "merged_data_rome = merge_csv_files(file_list)\n",
    "#Call the function for Madrid\n",
    "file_list = ['data/madrid_listing_Q1_24.csv', 'data/madrid_listing_Q4_23.csv', 'data/madrid_listing_Q3_23.csv', 'data/madrid_listing_Q2_23.csv']\n",
    "merged_data_madrid = merge_csv_files(file_list)\n",
    "#Calling the function for Barcelona\n",
    "file_list = ['data/barcelona_listing_Q1_24.csv', 'data/barcelona_listing_Q4_23.csv', 'data/barcelona_listing_Q3_23.csv', 'data/barcelona_listing_Q2_23.csv']\n",
    "merged_data_barcelona = merge_csv_files(file_list)\n",
    "#Calling the function for Istanbul\n",
    "file_list = ['data/istanbul_listing_Q1_24.csv', 'data/istanbul_listing_Q4_23.csv', 'data/istanbul_listing_Q3_23.csv', 'data/istanbul_listing_Q2_23.csv']\n",
    "merged_data_istanbul = merge_csv_files(file_list)\n",
    "#Calling the function for London\n",
    "file_list = ['data/london_listing_Q1_24.csv', 'data/london_listing_Q4_23.csv', 'data/london_listing_Q3_23.csv', 'data/london_listing_Q2_23.csv']\n",
    "merged_data_london = merge_csv_files(file_list)\n",
    "#Calling the function for Paris\n",
    "file_list = ['data/paris_listing_Q1_24.csv', 'data/paris_listing_Q4_23.csv', 'data/paris_listing_Q3_23.csv', 'data/paris_listing_Q2_23.csv']\n",
    "merged_data_paris = merge_csv_files(file_list)\n",
    "\n"
   ]
  },
  {
   "cell_type": "code",
   "execution_count": null,
   "metadata": {},
   "outputs": [],
   "source": [
    "#defining the list of dataframes\n",
    "df_list = [merged_data_rome, merged_data_madrid, merged_data_barcelona, merged_data_istanbul, merged_data_london, merged_data_paris]\n",
    "final_dataframe = merge_data_frames(df_list)"
   ]
  },
  {
   "cell_type": "code",
   "execution_count": null,
   "metadata": {},
   "outputs": [],
   "source": [
    "final_dataframe"
   ]
  },
  {
   "cell_type": "code",
   "execution_count": null,
   "metadata": {},
   "outputs": [],
   "source": [
    "cities=final_dataframe[\"city\"].unique()\n",
    "cities"
   ]
  },
  {
   "cell_type": "code",
   "execution_count": null,
   "metadata": {},
   "outputs": [],
   "source": [
    "create_pie(cities, final_dataframe)"
   ]
  }
 ],
 "metadata": {
  "kernelspec": {
   "display_name": "base",
   "language": "python",
   "name": "python3"
  },
  "language_info": {
   "codemirror_mode": {
    "name": "ipython",
    "version": 3
   },
   "file_extension": ".py",
   "mimetype": "text/x-python",
   "name": "python",
   "nbconvert_exporter": "python",
   "pygments_lexer": "ipython3",
   "version": "3.12.4"
  }
 },
 "nbformat": 4,
 "nbformat_minor": 2
}
