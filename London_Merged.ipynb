{
 "cells": [
  {
   "cell_type": "code",
   "execution_count": 17,
   "metadata": {},
   "outputs": [],
   "source": [
    "import pandas as pd\n",
    "\n",
    "df = pd.read_csv('London_Q124_Listings.csv')"
   ]
  },
  {
   "cell_type": "code",
   "execution_count": 18,
   "metadata": {},
   "outputs": [
    {
     "name": "stderr",
     "output_type": "stream",
     "text": [
      "C:\\Users\\fjkha\\AppData\\Local\\Temp\\ipykernel_28900\\4199669776.py:3: DtypeWarning: Columns (17) have mixed types. Specify dtype option on import or set low_memory=False.\n",
      "  lon_listings_3 = pd.read_csv('London_Q323_Listings.csv')\n"
     ]
    }
   ],
   "source": [
    "lon_listings_1 = pd.read_csv('London_Q124_Listings.csv')\n",
    "lon_listings_2 = pd.read_csv('London_Q423_Listings.csv')\n",
    "lon_listings_3 = pd.read_csv('London_Q323_Listings.csv')\n",
    "lon_listings_4 = pd.read_csv('London_Q223_Listings.csv')"
   ]
  },
  {
   "cell_type": "code",
   "execution_count": 24,
   "metadata": {},
   "outputs": [
    {
     "data": {
      "text/plain": [
       "id                                    0\n",
       "name                                  0\n",
       "host_id                               0\n",
       "host_name                            10\n",
       "neighbourhood_group               90857\n",
       "neighbourhood                         0\n",
       "latitude                              0\n",
       "longitude                             0\n",
       "room_type                             0\n",
       "price                             32969\n",
       "minimum_nights                        0\n",
       "number_of_reviews                     0\n",
       "last_review                       24985\n",
       "reviews_per_month                 24985\n",
       "calculated_host_listings_count        0\n",
       "availability_365                      0\n",
       "number_of_reviews_ltm                 0\n",
       "license                           90857\n",
       "dtype: int64"
      ]
     },
     "execution_count": 24,
     "metadata": {},
     "output_type": "execute_result"
    }
   ],
   "source": [
    "lon_listings_1.isnull().sum()"
   ]
  },
  {
   "cell_type": "code",
   "execution_count": 26,
   "metadata": {},
   "outputs": [
    {
     "data": {
      "text/plain": [
       "(91778, 18)"
      ]
     },
     "execution_count": 26,
     "metadata": {},
     "output_type": "execute_result"
    }
   ],
   "source": [
    "lon_listings_2.shape"
   ]
  },
  {
   "cell_type": "code",
   "execution_count": 27,
   "metadata": {},
   "outputs": [
    {
     "data": {
      "text/plain": [
       "(87947, 18)"
      ]
     },
     "execution_count": 27,
     "metadata": {},
     "output_type": "execute_result"
    }
   ],
   "source": [
    "lon_listings_3.shape"
   ]
  },
  {
   "cell_type": "code",
   "execution_count": 31,
   "metadata": {},
   "outputs": [
    {
     "data": {
      "text/plain": [
       "id                                    0\n",
       "name                                  0\n",
       "host_id                               0\n",
       "host_name                             6\n",
       "neighbourhood_group               87947\n",
       "neighbourhood                         0\n",
       "latitude                              0\n",
       "longitude                             0\n",
       "room_type                             0\n",
       "price                                 0\n",
       "minimum_nights                        0\n",
       "number_of_reviews                     0\n",
       "last_review                       22158\n",
       "reviews_per_month                 22158\n",
       "calculated_host_listings_count        0\n",
       "availability_365                      0\n",
       "number_of_reviews_ltm                 0\n",
       "license                           87946\n",
       "dtype: int64"
      ]
     },
     "execution_count": 31,
     "metadata": {},
     "output_type": "execute_result"
    }
   ],
   "source": [
    "lon_listings_3.isnull().sum()"
   ]
  },
  {
   "cell_type": "code",
   "execution_count": 29,
   "metadata": {},
   "outputs": [
    {
     "data": {
      "text/plain": [
       "(81792, 18)"
      ]
     },
     "execution_count": 29,
     "metadata": {},
     "output_type": "execute_result"
    }
   ],
   "source": [
    "lon_listings_4.shape"
   ]
  },
  {
   "cell_type": "code",
   "execution_count": 30,
   "metadata": {},
   "outputs": [
    {
     "data": {
      "text/plain": [
       "id                                    0\n",
       "name                                  0\n",
       "host_id                               0\n",
       "host_name                             6\n",
       "neighbourhood_group               81792\n",
       "neighbourhood                         0\n",
       "latitude                              0\n",
       "longitude                             0\n",
       "room_type                             0\n",
       "price                                 0\n",
       "minimum_nights                        0\n",
       "number_of_reviews                     0\n",
       "last_review                       20602\n",
       "reviews_per_month                 20602\n",
       "calculated_host_listings_count        0\n",
       "availability_365                      0\n",
       "number_of_reviews_ltm                 0\n",
       "license                           81792\n",
       "dtype: int64"
      ]
     },
     "execution_count": 30,
     "metadata": {},
     "output_type": "execute_result"
    }
   ],
   "source": [
    "lon_listings_4.isnull().sum()"
   ]
  },
  {
   "cell_type": "code",
   "execution_count": 33,
   "metadata": {},
   "outputs": [],
   "source": [
    "#Adding a new column to each dataframe to identify the quarter\n",
    "lon_listings_1['quarter'] = 'Q1_2024'\n",
    "lon_listings_2['quarter'] = 'Q4_2023'\n",
    "lon_listings_3['quarter'] = 'Q3_2023'\n",
    "lon_listings_4['quarter'] = 'Q2_2023'\n"
   ]
  },
  {
   "cell_type": "code",
   "execution_count": 34,
   "metadata": {},
   "outputs": [],
   "source": [
    "lon_listings__merged = pd.concat([lon_listings_1, lon_listings_2, lon_listings_3, lon_listings_4],ignore_index=True, axis=0)"
   ]
  },
  {
   "cell_type": "code",
   "execution_count": 35,
   "metadata": {},
   "outputs": [
    {
     "data": {
      "text/html": [
       "<div>\n",
       "<style scoped>\n",
       "    .dataframe tbody tr th:only-of-type {\n",
       "        vertical-align: middle;\n",
       "    }\n",
       "\n",
       "    .dataframe tbody tr th {\n",
       "        vertical-align: top;\n",
       "    }\n",
       "\n",
       "    .dataframe thead th {\n",
       "        text-align: right;\n",
       "    }\n",
       "</style>\n",
       "<table border=\"1\" class=\"dataframe\">\n",
       "  <thead>\n",
       "    <tr style=\"text-align: right;\">\n",
       "      <th></th>\n",
       "      <th>id</th>\n",
       "      <th>name</th>\n",
       "      <th>host_id</th>\n",
       "      <th>host_name</th>\n",
       "      <th>neighbourhood_group</th>\n",
       "      <th>neighbourhood</th>\n",
       "      <th>latitude</th>\n",
       "      <th>longitude</th>\n",
       "      <th>room_type</th>\n",
       "      <th>price</th>\n",
       "      <th>minimum_nights</th>\n",
       "      <th>number_of_reviews</th>\n",
       "      <th>last_review</th>\n",
       "      <th>reviews_per_month</th>\n",
       "      <th>calculated_host_listings_count</th>\n",
       "      <th>availability_365</th>\n",
       "      <th>number_of_reviews_ltm</th>\n",
       "      <th>license</th>\n",
       "      <th>quarter</th>\n",
       "    </tr>\n",
       "  </thead>\n",
       "  <tbody>\n",
       "    <tr>\n",
       "      <th>0</th>\n",
       "      <td>159736</td>\n",
       "      <td>A double Room 5mins from King's College Hospital</td>\n",
       "      <td>766056</td>\n",
       "      <td>Trevor</td>\n",
       "      <td>NaN</td>\n",
       "      <td>Lambeth</td>\n",
       "      <td>51.467880</td>\n",
       "      <td>-0.099930</td>\n",
       "      <td>Private room</td>\n",
       "      <td>65.0</td>\n",
       "      <td>4</td>\n",
       "      <td>96</td>\n",
       "      <td>2023-04-29</td>\n",
       "      <td>0.62</td>\n",
       "      <td>4</td>\n",
       "      <td>268</td>\n",
       "      <td>1</td>\n",
       "      <td>NaN</td>\n",
       "      <td>Q1_2024</td>\n",
       "    </tr>\n",
       "    <tr>\n",
       "      <th>1</th>\n",
       "      <td>312761</td>\n",
       "      <td>Spacious Central London Apartment by Hoxton Sq...</td>\n",
       "      <td>1608226</td>\n",
       "      <td>Pippa</td>\n",
       "      <td>NaN</td>\n",
       "      <td>Hackney</td>\n",
       "      <td>51.527040</td>\n",
       "      <td>-0.081290</td>\n",
       "      <td>Entire home/apt</td>\n",
       "      <td>160.0</td>\n",
       "      <td>9</td>\n",
       "      <td>122</td>\n",
       "      <td>2024-02-03</td>\n",
       "      <td>0.86</td>\n",
       "      <td>1</td>\n",
       "      <td>81</td>\n",
       "      <td>26</td>\n",
       "      <td>NaN</td>\n",
       "      <td>Q1_2024</td>\n",
       "    </tr>\n",
       "    <tr>\n",
       "      <th>2</th>\n",
       "      <td>13913</td>\n",
       "      <td>Holiday London DB Room Let-on going</td>\n",
       "      <td>54730</td>\n",
       "      <td>Alina</td>\n",
       "      <td>NaN</td>\n",
       "      <td>Islington</td>\n",
       "      <td>51.568610</td>\n",
       "      <td>-0.112700</td>\n",
       "      <td>Private room</td>\n",
       "      <td>65.0</td>\n",
       "      <td>1</td>\n",
       "      <td>41</td>\n",
       "      <td>2023-11-26</td>\n",
       "      <td>0.25</td>\n",
       "      <td>3</td>\n",
       "      <td>351</td>\n",
       "      <td>1</td>\n",
       "      <td>NaN</td>\n",
       "      <td>Q1_2024</td>\n",
       "    </tr>\n",
       "    <tr>\n",
       "      <th>3</th>\n",
       "      <td>165336</td>\n",
       "      <td>Charming Flat in Notting Hill</td>\n",
       "      <td>761400</td>\n",
       "      <td>Nathan</td>\n",
       "      <td>NaN</td>\n",
       "      <td>Kensington and Chelsea</td>\n",
       "      <td>51.517350</td>\n",
       "      <td>-0.210760</td>\n",
       "      <td>Entire home/apt</td>\n",
       "      <td>100.0</td>\n",
       "      <td>1</td>\n",
       "      <td>237</td>\n",
       "      <td>2024-03-17</td>\n",
       "      <td>1.57</td>\n",
       "      <td>1</td>\n",
       "      <td>3</td>\n",
       "      <td>25</td>\n",
       "      <td>NaN</td>\n",
       "      <td>Q1_2024</td>\n",
       "    </tr>\n",
       "    <tr>\n",
       "      <th>4</th>\n",
       "      <td>15400</td>\n",
       "      <td>Bright Chelsea  Apartment. Chelsea!</td>\n",
       "      <td>60302</td>\n",
       "      <td>Philippa</td>\n",
       "      <td>NaN</td>\n",
       "      <td>Kensington and Chelsea</td>\n",
       "      <td>51.487800</td>\n",
       "      <td>-0.168130</td>\n",
       "      <td>Entire home/apt</td>\n",
       "      <td>120.0</td>\n",
       "      <td>4</td>\n",
       "      <td>94</td>\n",
       "      <td>2023-05-01</td>\n",
       "      <td>0.54</td>\n",
       "      <td>1</td>\n",
       "      <td>88</td>\n",
       "      <td>2</td>\n",
       "      <td>NaN</td>\n",
       "      <td>Q1_2024</td>\n",
       "    </tr>\n",
       "    <tr>\n",
       "      <th>...</th>\n",
       "      <td>...</td>\n",
       "      <td>...</td>\n",
       "      <td>...</td>\n",
       "      <td>...</td>\n",
       "      <td>...</td>\n",
       "      <td>...</td>\n",
       "      <td>...</td>\n",
       "      <td>...</td>\n",
       "      <td>...</td>\n",
       "      <td>...</td>\n",
       "      <td>...</td>\n",
       "      <td>...</td>\n",
       "      <td>...</td>\n",
       "      <td>...</td>\n",
       "      <td>...</td>\n",
       "      <td>...</td>\n",
       "      <td>...</td>\n",
       "      <td>...</td>\n",
       "      <td>...</td>\n",
       "    </tr>\n",
       "    <tr>\n",
       "      <th>352369</th>\n",
       "      <td>908448542533162051</td>\n",
       "      <td>Rental unit in Greater London · ★New · 1 bedro...</td>\n",
       "      <td>314162972</td>\n",
       "      <td>Blueground</td>\n",
       "      <td>NaN</td>\n",
       "      <td>Westminster</td>\n",
       "      <td>51.531046</td>\n",
       "      <td>-0.176821</td>\n",
       "      <td>Entire home/apt</td>\n",
       "      <td>169.0</td>\n",
       "      <td>90</td>\n",
       "      <td>0</td>\n",
       "      <td>NaN</td>\n",
       "      <td>NaN</td>\n",
       "      <td>280</td>\n",
       "      <td>1</td>\n",
       "      <td>0</td>\n",
       "      <td>NaN</td>\n",
       "      <td>Q2_2023</td>\n",
       "    </tr>\n",
       "    <tr>\n",
       "      <th>352370</th>\n",
       "      <td>908448851903630292</td>\n",
       "      <td>Rental unit in Greater London · ★New · 2 bedro...</td>\n",
       "      <td>314162972</td>\n",
       "      <td>Blueground</td>\n",
       "      <td>NaN</td>\n",
       "      <td>Lambeth</td>\n",
       "      <td>51.499511</td>\n",
       "      <td>-0.114164</td>\n",
       "      <td>Entire home/apt</td>\n",
       "      <td>170.0</td>\n",
       "      <td>30</td>\n",
       "      <td>0</td>\n",
       "      <td>NaN</td>\n",
       "      <td>NaN</td>\n",
       "      <td>280</td>\n",
       "      <td>272</td>\n",
       "      <td>0</td>\n",
       "      <td>NaN</td>\n",
       "      <td>Q2_2023</td>\n",
       "    </tr>\n",
       "    <tr>\n",
       "      <th>352371</th>\n",
       "      <td>908450386316337239</td>\n",
       "      <td>Rental unit in Greater London · ★New · 1 bedro...</td>\n",
       "      <td>36404387</td>\n",
       "      <td>Gizem</td>\n",
       "      <td>NaN</td>\n",
       "      <td>Hackney</td>\n",
       "      <td>51.557216</td>\n",
       "      <td>-0.067643</td>\n",
       "      <td>Private room</td>\n",
       "      <td>40.0</td>\n",
       "      <td>2</td>\n",
       "      <td>0</td>\n",
       "      <td>NaN</td>\n",
       "      <td>NaN</td>\n",
       "      <td>1</td>\n",
       "      <td>166</td>\n",
       "      <td>0</td>\n",
       "      <td>NaN</td>\n",
       "      <td>Q2_2023</td>\n",
       "    </tr>\n",
       "    <tr>\n",
       "      <th>352372</th>\n",
       "      <td>908452889848079702</td>\n",
       "      <td>Rental unit in Greater London · ★New · 3 bedro...</td>\n",
       "      <td>518621554</td>\n",
       "      <td>Ahsan</td>\n",
       "      <td>NaN</td>\n",
       "      <td>Westminster</td>\n",
       "      <td>51.515650</td>\n",
       "      <td>-0.179570</td>\n",
       "      <td>Entire home/apt</td>\n",
       "      <td>392.0</td>\n",
       "      <td>3</td>\n",
       "      <td>0</td>\n",
       "      <td>NaN</td>\n",
       "      <td>NaN</td>\n",
       "      <td>2</td>\n",
       "      <td>90</td>\n",
       "      <td>0</td>\n",
       "      <td>NaN</td>\n",
       "      <td>Q2_2023</td>\n",
       "    </tr>\n",
       "    <tr>\n",
       "      <th>352373</th>\n",
       "      <td>908453389034894825</td>\n",
       "      <td>Rental unit in Greater London · ★New · 2 bedro...</td>\n",
       "      <td>504311587</td>\n",
       "      <td>Stefan</td>\n",
       "      <td>NaN</td>\n",
       "      <td>Greenwich</td>\n",
       "      <td>51.484432</td>\n",
       "      <td>0.002025</td>\n",
       "      <td>Entire home/apt</td>\n",
       "      <td>169.0</td>\n",
       "      <td>5</td>\n",
       "      <td>0</td>\n",
       "      <td>NaN</td>\n",
       "      <td>NaN</td>\n",
       "      <td>15</td>\n",
       "      <td>88</td>\n",
       "      <td>0</td>\n",
       "      <td>NaN</td>\n",
       "      <td>Q2_2023</td>\n",
       "    </tr>\n",
       "  </tbody>\n",
       "</table>\n",
       "<p>352374 rows × 19 columns</p>\n",
       "</div>"
      ],
      "text/plain": [
       "                        id                                               name  \\\n",
       "0                   159736   A double Room 5mins from King's College Hospital   \n",
       "1                   312761  Spacious Central London Apartment by Hoxton Sq...   \n",
       "2                    13913                Holiday London DB Room Let-on going   \n",
       "3                   165336                      Charming Flat in Notting Hill   \n",
       "4                    15400                Bright Chelsea  Apartment. Chelsea!   \n",
       "...                    ...                                                ...   \n",
       "352369  908448542533162051  Rental unit in Greater London · ★New · 1 bedro...   \n",
       "352370  908448851903630292  Rental unit in Greater London · ★New · 2 bedro...   \n",
       "352371  908450386316337239  Rental unit in Greater London · ★New · 1 bedro...   \n",
       "352372  908452889848079702  Rental unit in Greater London · ★New · 3 bedro...   \n",
       "352373  908453389034894825  Rental unit in Greater London · ★New · 2 bedro...   \n",
       "\n",
       "          host_id   host_name  neighbourhood_group           neighbourhood  \\\n",
       "0          766056      Trevor                  NaN                 Lambeth   \n",
       "1         1608226       Pippa                  NaN                 Hackney   \n",
       "2           54730       Alina                  NaN               Islington   \n",
       "3          761400      Nathan                  NaN  Kensington and Chelsea   \n",
       "4           60302    Philippa                  NaN  Kensington and Chelsea   \n",
       "...           ...         ...                  ...                     ...   \n",
       "352369  314162972  Blueground                  NaN             Westminster   \n",
       "352370  314162972  Blueground                  NaN                 Lambeth   \n",
       "352371   36404387       Gizem                  NaN                 Hackney   \n",
       "352372  518621554       Ahsan                  NaN             Westminster   \n",
       "352373  504311587      Stefan                  NaN               Greenwich   \n",
       "\n",
       "         latitude  longitude        room_type  price  minimum_nights  \\\n",
       "0       51.467880  -0.099930     Private room   65.0               4   \n",
       "1       51.527040  -0.081290  Entire home/apt  160.0               9   \n",
       "2       51.568610  -0.112700     Private room   65.0               1   \n",
       "3       51.517350  -0.210760  Entire home/apt  100.0               1   \n",
       "4       51.487800  -0.168130  Entire home/apt  120.0               4   \n",
       "...           ...        ...              ...    ...             ...   \n",
       "352369  51.531046  -0.176821  Entire home/apt  169.0              90   \n",
       "352370  51.499511  -0.114164  Entire home/apt  170.0              30   \n",
       "352371  51.557216  -0.067643     Private room   40.0               2   \n",
       "352372  51.515650  -0.179570  Entire home/apt  392.0               3   \n",
       "352373  51.484432   0.002025  Entire home/apt  169.0               5   \n",
       "\n",
       "        number_of_reviews last_review  reviews_per_month  \\\n",
       "0                      96  2023-04-29               0.62   \n",
       "1                     122  2024-02-03               0.86   \n",
       "2                      41  2023-11-26               0.25   \n",
       "3                     237  2024-03-17               1.57   \n",
       "4                      94  2023-05-01               0.54   \n",
       "...                   ...         ...                ...   \n",
       "352369                  0         NaN                NaN   \n",
       "352370                  0         NaN                NaN   \n",
       "352371                  0         NaN                NaN   \n",
       "352372                  0         NaN                NaN   \n",
       "352373                  0         NaN                NaN   \n",
       "\n",
       "        calculated_host_listings_count  availability_365  \\\n",
       "0                                    4               268   \n",
       "1                                    1                81   \n",
       "2                                    3               351   \n",
       "3                                    1                 3   \n",
       "4                                    1                88   \n",
       "...                                ...               ...   \n",
       "352369                             280                 1   \n",
       "352370                             280               272   \n",
       "352371                               1               166   \n",
       "352372                               2                90   \n",
       "352373                              15                88   \n",
       "\n",
       "        number_of_reviews_ltm license  quarter  \n",
       "0                           1     NaN  Q1_2024  \n",
       "1                          26     NaN  Q1_2024  \n",
       "2                           1     NaN  Q1_2024  \n",
       "3                          25     NaN  Q1_2024  \n",
       "4                           2     NaN  Q1_2024  \n",
       "...                       ...     ...      ...  \n",
       "352369                      0     NaN  Q2_2023  \n",
       "352370                      0     NaN  Q2_2023  \n",
       "352371                      0     NaN  Q2_2023  \n",
       "352372                      0     NaN  Q2_2023  \n",
       "352373                      0     NaN  Q2_2023  \n",
       "\n",
       "[352374 rows x 19 columns]"
      ]
     },
     "execution_count": 35,
     "metadata": {},
     "output_type": "execute_result"
    }
   ],
   "source": [
    "lon_listings__merged"
   ]
  },
  {
   "cell_type": "code",
   "execution_count": null,
   "metadata": {},
   "outputs": [],
   "source": []
  },
  {
   "cell_type": "code",
   "execution_count": 36,
   "metadata": {},
   "outputs": [
    {
     "data": {
      "text/plain": [
       "0"
      ]
     },
     "execution_count": 36,
     "metadata": {},
     "output_type": "execute_result"
    }
   ],
   "source": [
    "lon_listings__merged.duplicated().sum() #0 duplicates"
   ]
  },
  {
   "cell_type": "code",
   "execution_count": 39,
   "metadata": {},
   "outputs": [],
   "source": [
    "columns_to_remove = ['last_review', \n",
    "                    'number_of_reviews_ltm', \n",
    "                    'license', \n",
    "                    'neighbourhood_group']\n",
    "\n",
    "lon_listings__merged.drop(columns=columns_to_remove, inplace=True)"
   ]
  },
  {
   "cell_type": "code",
   "execution_count": 46,
   "metadata": {},
   "outputs": [],
   "source": [
    "# Calculate the mean of the 'price' column (ignoring NaN values)\n",
    "mean_price = lon_listings__merged['price'].mean().round(2)"
   ]
  },
  {
   "cell_type": "code",
   "execution_count": 47,
   "metadata": {},
   "outputs": [],
   "source": [
    "# Fill NaN values in the 'price' column with the mean price\n",
    "lon_listings__merged['price'] = lon_listings__merged['price'].fillna(mean_price).round(2)"
   ]
  },
  {
   "cell_type": "code",
   "execution_count": 43,
   "metadata": {},
   "outputs": [
    {
     "data": {
      "text/plain": [
       "id                                    0\n",
       "name                                  0\n",
       "host_id                               0\n",
       "host_name                            27\n",
       "neighbourhood                         0\n",
       "latitude                              0\n",
       "longitude                             0\n",
       "room_type                             0\n",
       "price                                 0\n",
       "minimum_nights                        0\n",
       "number_of_reviews                     0\n",
       "reviews_per_month                 91868\n",
       "calculated_host_listings_count        0\n",
       "availability_365                      0\n",
       "quarter                               0\n",
       "dtype: int64"
      ]
     },
     "execution_count": 43,
     "metadata": {},
     "output_type": "execute_result"
    }
   ],
   "source": [
    "lon_listings__merged.isnull().sum()"
   ]
  }
 ],
 "metadata": {
  "kernelspec": {
   "display_name": "base",
   "language": "python",
   "name": "python3"
  },
  "language_info": {
   "codemirror_mode": {
    "name": "ipython",
    "version": 3
   },
   "file_extension": ".py",
   "mimetype": "text/x-python",
   "name": "python",
   "nbconvert_exporter": "python",
   "pygments_lexer": "ipython3",
   "version": "3.12.4"
  }
 },
 "nbformat": 4,
 "nbformat_minor": 2
}
