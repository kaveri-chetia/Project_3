{
 "cells": [
  {
   "cell_type": "markdown",
   "metadata": {},
   "source": [
    "#### Creating a fucntion to read the CSV files for each city and put them in one dataframe"
   ]
  },
  {
   "cell_type": "code",
   "execution_count": 304,
   "metadata": {},
   "outputs": [],
   "source": [
    "import pandas as pd\n",
    "import seaborn as sns\n",
    "import matplotlib.pyplot as plt\n",
    "import requests\n",
    "import os\n",
    "from dotenv import load_dotenv\n",
    "import plotly.express as px\n",
    "\n",
    "def merge_csv_files(file_list):\n",
    "    #create an empty list to store the dataframes\n",
    "    dataframes = []\n",
    "    # Loop through the list of files and read them into pandas\n",
    "    for file in file_list:\n",
    "        df = pd.read_csv(file)\n",
    "        dataframes.append(df)\n",
    "    \n",
    "    #add quarter column for grouping\n",
    "    for i in range(len(dataframes)):\n",
    "        #remove the path and extract the file name\n",
    "        filename = file_list[i].split('/')[-1]\n",
    "        #split the filename by '_' and extract the quarter and year\n",
    "        parts = filename.split('_')\n",
    "        #extract the quarter and year and concatenate them\n",
    "        quarter_year = f\"{parts[2]}_{parts[3].split('.')[0]}\"\n",
    "        #add the quarter column to the dataframe\n",
    "        dataframes[i]['quarter'] = quarter_year \n",
    "\n",
    "    #remove unnecessary columns\n",
    "    for i in range(len(dataframes)):\n",
    "        dataframes[i] = dataframes[i].drop(columns=[\n",
    "                    'last_review',\n",
    "                   'number_of_reviews_ltm',\n",
    "                   'license',\n",
    "                   'neighbourhood_group',\n",
    "                   'host_name',\n",
    "        ])\n",
    "\n",
    "        #fill missing values in price column\n",
    "        dataframes[i]['price'] = dataframes[i]['price'].fillna(dataframes[i]['price'].mean())\n",
    "    \n",
    "    #concatenate the dataframes\n",
    "    merged_dataframe = pd.concat(dataframes, ignore_index=True)\n",
    "    return merged_dataframe\n",
    "\n"
   ]
  },
  {
   "cell_type": "markdown",
   "metadata": {},
   "source": [
    "### Calling the function for all the cities"
   ]
  },
  {
   "cell_type": "code",
   "execution_count": 305,
   "metadata": {},
   "outputs": [
    {
     "data": {
      "text/html": [
       "<div>\n",
       "<style scoped>\n",
       "    .dataframe tbody tr th:only-of-type {\n",
       "        vertical-align: middle;\n",
       "    }\n",
       "\n",
       "    .dataframe tbody tr th {\n",
       "        vertical-align: top;\n",
       "    }\n",
       "\n",
       "    .dataframe thead th {\n",
       "        text-align: right;\n",
       "    }\n",
       "</style>\n",
       "<table border=\"1\" class=\"dataframe\">\n",
       "  <thead>\n",
       "    <tr style=\"text-align: right;\">\n",
       "      <th></th>\n",
       "      <th>id</th>\n",
       "      <th>name</th>\n",
       "      <th>host_id</th>\n",
       "      <th>neighbourhood</th>\n",
       "      <th>latitude</th>\n",
       "      <th>longitude</th>\n",
       "      <th>room_type</th>\n",
       "      <th>price</th>\n",
       "      <th>minimum_nights</th>\n",
       "      <th>number_of_reviews</th>\n",
       "      <th>reviews_per_month</th>\n",
       "      <th>calculated_host_listings_count</th>\n",
       "      <th>availability_365</th>\n",
       "      <th>quarter</th>\n",
       "    </tr>\n",
       "  </thead>\n",
       "  <tbody>\n",
       "    <tr>\n",
       "      <th>0</th>\n",
       "      <td>2737</td>\n",
       "      <td>Elif's room in cozy, clean flat.</td>\n",
       "      <td>3047</td>\n",
       "      <td>VIII Appia Antica</td>\n",
       "      <td>41.871360</td>\n",
       "      <td>12.482150</td>\n",
       "      <td>Private room</td>\n",
       "      <td>56.0</td>\n",
       "      <td>7</td>\n",
       "      <td>5</td>\n",
       "      <td>0.04</td>\n",
       "      <td>6</td>\n",
       "      <td>365</td>\n",
       "      <td>Q1_24</td>\n",
       "    </tr>\n",
       "    <tr>\n",
       "      <th>1</th>\n",
       "      <td>139330</td>\n",
       "      <td>abbraccia Morfeo (2b)</td>\n",
       "      <td>679555</td>\n",
       "      <td>V Prenestino/Centocelle</td>\n",
       "      <td>41.881420</td>\n",
       "      <td>12.544220</td>\n",
       "      <td>Private room</td>\n",
       "      <td>94.0</td>\n",
       "      <td>2</td>\n",
       "      <td>26</td>\n",
       "      <td>0.29</td>\n",
       "      <td>4</td>\n",
       "      <td>62</td>\n",
       "      <td>Q1_24</td>\n",
       "    </tr>\n",
       "    <tr>\n",
       "      <th>2</th>\n",
       "      <td>3079</td>\n",
       "      <td>Cozy apartment  (2-4)with Colisseum  view</td>\n",
       "      <td>3504</td>\n",
       "      <td>I Centro Storico</td>\n",
       "      <td>41.895000</td>\n",
       "      <td>12.491170</td>\n",
       "      <td>Entire home/apt</td>\n",
       "      <td>120.0</td>\n",
       "      <td>90</td>\n",
       "      <td>21</td>\n",
       "      <td>0.13</td>\n",
       "      <td>6</td>\n",
       "      <td>253</td>\n",
       "      <td>Q1_24</td>\n",
       "    </tr>\n",
       "    <tr>\n",
       "      <th>3</th>\n",
       "      <td>140801</td>\n",
       "      <td>Rome Studio Rental, Colosseum</td>\n",
       "      <td>685600</td>\n",
       "      <td>I Centro Storico</td>\n",
       "      <td>41.887390</td>\n",
       "      <td>12.496900</td>\n",
       "      <td>Entire home/apt</td>\n",
       "      <td>81.0</td>\n",
       "      <td>3</td>\n",
       "      <td>192</td>\n",
       "      <td>1.26</td>\n",
       "      <td>1</td>\n",
       "      <td>222</td>\n",
       "      <td>Q1_24</td>\n",
       "    </tr>\n",
       "    <tr>\n",
       "      <th>4</th>\n",
       "      <td>11834</td>\n",
       "      <td>Rome \"Charming Boschetto Studio\"</td>\n",
       "      <td>44552</td>\n",
       "      <td>I Centro Storico</td>\n",
       "      <td>41.895447</td>\n",
       "      <td>12.491181</td>\n",
       "      <td>Entire home/apt</td>\n",
       "      <td>110.0</td>\n",
       "      <td>2</td>\n",
       "      <td>224</td>\n",
       "      <td>1.43</td>\n",
       "      <td>1</td>\n",
       "      <td>181</td>\n",
       "      <td>Q1_24</td>\n",
       "    </tr>\n",
       "    <tr>\n",
       "      <th>...</th>\n",
       "      <td>...</td>\n",
       "      <td>...</td>\n",
       "      <td>...</td>\n",
       "      <td>...</td>\n",
       "      <td>...</td>\n",
       "      <td>...</td>\n",
       "      <td>...</td>\n",
       "      <td>...</td>\n",
       "      <td>...</td>\n",
       "      <td>...</td>\n",
       "      <td>...</td>\n",
       "      <td>...</td>\n",
       "      <td>...</td>\n",
       "      <td>...</td>\n",
       "    </tr>\n",
       "    <tr>\n",
       "      <th>113940</th>\n",
       "      <td>907665329364448150</td>\n",
       "      <td>Rental unit in Rome · ★New · 2 bedrooms · 4 be...</td>\n",
       "      <td>494485</td>\n",
       "      <td>XII Monte Verde</td>\n",
       "      <td>41.858597</td>\n",
       "      <td>12.439723</td>\n",
       "      <td>Entire home/apt</td>\n",
       "      <td>112.0</td>\n",
       "      <td>30</td>\n",
       "      <td>0</td>\n",
       "      <td>NaN</td>\n",
       "      <td>25</td>\n",
       "      <td>365</td>\n",
       "      <td>Q2_23</td>\n",
       "    </tr>\n",
       "    <tr>\n",
       "      <th>113941</th>\n",
       "      <td>907740873805877631</td>\n",
       "      <td>Rental unit in Rome · ★New · 2 bedrooms · 3 be...</td>\n",
       "      <td>255338453</td>\n",
       "      <td>I Centro Storico</td>\n",
       "      <td>41.894868</td>\n",
       "      <td>12.491906</td>\n",
       "      <td>Entire home/apt</td>\n",
       "      <td>512.0</td>\n",
       "      <td>1</td>\n",
       "      <td>0</td>\n",
       "      <td>NaN</td>\n",
       "      <td>2</td>\n",
       "      <td>144</td>\n",
       "      <td>Q2_23</td>\n",
       "    </tr>\n",
       "    <tr>\n",
       "      <th>113942</th>\n",
       "      <td>907795429693803226</td>\n",
       "      <td>Rental unit in Rome · ★New · 1 bedroom · 1 bed...</td>\n",
       "      <td>465355743</td>\n",
       "      <td>XIV Monte Mario</td>\n",
       "      <td>41.911356</td>\n",
       "      <td>12.444160</td>\n",
       "      <td>Entire home/apt</td>\n",
       "      <td>200.0</td>\n",
       "      <td>4</td>\n",
       "      <td>0</td>\n",
       "      <td>NaN</td>\n",
       "      <td>2</td>\n",
       "      <td>349</td>\n",
       "      <td>Q2_23</td>\n",
       "    </tr>\n",
       "    <tr>\n",
       "      <th>113943</th>\n",
       "      <td>907797510485153442</td>\n",
       "      <td>Rental unit in Rome · ★New · 2 bedrooms · 3 be...</td>\n",
       "      <td>507258639</td>\n",
       "      <td>I Centro Storico</td>\n",
       "      <td>41.898956</td>\n",
       "      <td>12.501748</td>\n",
       "      <td>Entire home/apt</td>\n",
       "      <td>128.0</td>\n",
       "      <td>1</td>\n",
       "      <td>0</td>\n",
       "      <td>NaN</td>\n",
       "      <td>2</td>\n",
       "      <td>307</td>\n",
       "      <td>Q2_23</td>\n",
       "    </tr>\n",
       "    <tr>\n",
       "      <th>113944</th>\n",
       "      <td>907814739994769462</td>\n",
       "      <td>Rental unit in Rome · ★New · 3 bedrooms · 3 be...</td>\n",
       "      <td>518536799</td>\n",
       "      <td>I Centro Storico</td>\n",
       "      <td>41.902406</td>\n",
       "      <td>12.494048</td>\n",
       "      <td>Entire home/apt</td>\n",
       "      <td>376.0</td>\n",
       "      <td>4</td>\n",
       "      <td>0</td>\n",
       "      <td>NaN</td>\n",
       "      <td>1</td>\n",
       "      <td>343</td>\n",
       "      <td>Q2_23</td>\n",
       "    </tr>\n",
       "  </tbody>\n",
       "</table>\n",
       "<p>113945 rows × 14 columns</p>\n",
       "</div>"
      ],
      "text/plain": [
       "                        id                                               name  \\\n",
       "0                     2737                   Elif's room in cozy, clean flat.   \n",
       "1                   139330                              abbraccia Morfeo (2b)   \n",
       "2                     3079          Cozy apartment  (2-4)with Colisseum  view   \n",
       "3                   140801                      Rome Studio Rental, Colosseum   \n",
       "4                    11834                   Rome \"Charming Boschetto Studio\"   \n",
       "...                    ...                                                ...   \n",
       "113940  907665329364448150  Rental unit in Rome · ★New · 2 bedrooms · 4 be...   \n",
       "113941  907740873805877631  Rental unit in Rome · ★New · 2 bedrooms · 3 be...   \n",
       "113942  907795429693803226  Rental unit in Rome · ★New · 1 bedroom · 1 bed...   \n",
       "113943  907797510485153442  Rental unit in Rome · ★New · 2 bedrooms · 3 be...   \n",
       "113944  907814739994769462  Rental unit in Rome · ★New · 3 bedrooms · 3 be...   \n",
       "\n",
       "          host_id            neighbourhood   latitude  longitude  \\\n",
       "0            3047        VIII Appia Antica  41.871360  12.482150   \n",
       "1          679555  V Prenestino/Centocelle  41.881420  12.544220   \n",
       "2            3504         I Centro Storico  41.895000  12.491170   \n",
       "3          685600         I Centro Storico  41.887390  12.496900   \n",
       "4           44552         I Centro Storico  41.895447  12.491181   \n",
       "...           ...                      ...        ...        ...   \n",
       "113940     494485          XII Monte Verde  41.858597  12.439723   \n",
       "113941  255338453         I Centro Storico  41.894868  12.491906   \n",
       "113942  465355743          XIV Monte Mario  41.911356  12.444160   \n",
       "113943  507258639         I Centro Storico  41.898956  12.501748   \n",
       "113944  518536799         I Centro Storico  41.902406  12.494048   \n",
       "\n",
       "              room_type  price  minimum_nights  number_of_reviews  \\\n",
       "0          Private room   56.0               7                  5   \n",
       "1          Private room   94.0               2                 26   \n",
       "2       Entire home/apt  120.0              90                 21   \n",
       "3       Entire home/apt   81.0               3                192   \n",
       "4       Entire home/apt  110.0               2                224   \n",
       "...                 ...    ...             ...                ...   \n",
       "113940  Entire home/apt  112.0              30                  0   \n",
       "113941  Entire home/apt  512.0               1                  0   \n",
       "113942  Entire home/apt  200.0               4                  0   \n",
       "113943  Entire home/apt  128.0               1                  0   \n",
       "113944  Entire home/apt  376.0               4                  0   \n",
       "\n",
       "        reviews_per_month  calculated_host_listings_count  availability_365  \\\n",
       "0                    0.04                               6               365   \n",
       "1                    0.29                               4                62   \n",
       "2                    0.13                               6               253   \n",
       "3                    1.26                               1               222   \n",
       "4                    1.43                               1               181   \n",
       "...                   ...                             ...               ...   \n",
       "113940                NaN                              25               365   \n",
       "113941                NaN                               2               144   \n",
       "113942                NaN                               2               349   \n",
       "113943                NaN                               2               307   \n",
       "113944                NaN                               1               343   \n",
       "\n",
       "       quarter  \n",
       "0        Q1_24  \n",
       "1        Q1_24  \n",
       "2        Q1_24  \n",
       "3        Q1_24  \n",
       "4        Q1_24  \n",
       "...        ...  \n",
       "113940   Q2_23  \n",
       "113941   Q2_23  \n",
       "113942   Q2_23  \n",
       "113943   Q2_23  \n",
       "113944   Q2_23  \n",
       "\n",
       "[113945 rows x 14 columns]"
      ]
     },
     "execution_count": 305,
     "metadata": {},
     "output_type": "execute_result"
    }
   ],
   "source": [
    "#Calling the function for Rome\n",
    "file_list = ['data/rome_listing_Q1_24.csv', 'data/rome_listing_Q4_23.csv', 'data/rome_listing_Q3_23.csv', 'data/rome_listing_Q2_23.csv']\n",
    "merged_data_rome = merge_csv_files(file_list)\n",
    "merged_data_rome"
   ]
  },
  {
   "cell_type": "code",
   "execution_count": 306,
   "metadata": {},
   "outputs": [
    {
     "data": {
      "text/plain": [
       "0"
      ]
     },
     "execution_count": 306,
     "metadata": {},
     "output_type": "execute_result"
    }
   ],
   "source": [
    "#testing if the price value is filled\n",
    "merged_data_rome[\"price\"].isnull().sum()"
   ]
  },
  {
   "cell_type": "code",
   "execution_count": 307,
   "metadata": {},
   "outputs": [
    {
     "data": {
      "text/plain": [
       "array(['Q1_24', 'Q4_23', 'Q3_23', 'Q2_23'], dtype=object)"
      ]
     },
     "execution_count": 307,
     "metadata": {},
     "output_type": "execute_result"
    }
   ],
   "source": [
    "#testing quarter column\n",
    "merged_data_rome[\"quarter\"].unique()"
   ]
  },
  {
   "cell_type": "code",
   "execution_count": 308,
   "metadata": {},
   "outputs": [
    {
     "data": {
      "text/html": [
       "<div>\n",
       "<style scoped>\n",
       "    .dataframe tbody tr th:only-of-type {\n",
       "        vertical-align: middle;\n",
       "    }\n",
       "\n",
       "    .dataframe tbody tr th {\n",
       "        vertical-align: top;\n",
       "    }\n",
       "\n",
       "    .dataframe thead th {\n",
       "        text-align: right;\n",
       "    }\n",
       "</style>\n",
       "<table border=\"1\" class=\"dataframe\">\n",
       "  <thead>\n",
       "    <tr style=\"text-align: right;\">\n",
       "      <th></th>\n",
       "      <th>id</th>\n",
       "      <th>name</th>\n",
       "      <th>host_id</th>\n",
       "      <th>neighbourhood</th>\n",
       "      <th>latitude</th>\n",
       "      <th>longitude</th>\n",
       "      <th>room_type</th>\n",
       "      <th>price</th>\n",
       "      <th>minimum_nights</th>\n",
       "      <th>number_of_reviews</th>\n",
       "      <th>reviews_per_month</th>\n",
       "      <th>calculated_host_listings_count</th>\n",
       "      <th>availability_365</th>\n",
       "      <th>quarter</th>\n",
       "    </tr>\n",
       "  </thead>\n",
       "  <tbody>\n",
       "    <tr>\n",
       "      <th>0</th>\n",
       "      <td>21853</td>\n",
       "      <td>Bright and airy room</td>\n",
       "      <td>83531</td>\n",
       "      <td>Cármenes</td>\n",
       "      <td>40.403810</td>\n",
       "      <td>-3.741300</td>\n",
       "      <td>Private room</td>\n",
       "      <td>31.0</td>\n",
       "      <td>4</td>\n",
       "      <td>33</td>\n",
       "      <td>0.29</td>\n",
       "      <td>2</td>\n",
       "      <td>233</td>\n",
       "      <td>Q1_24</td>\n",
       "    </tr>\n",
       "    <tr>\n",
       "      <th>1</th>\n",
       "      <td>204570</td>\n",
       "      <td>Lovely 110m2 home - Best location!</td>\n",
       "      <td>1004721</td>\n",
       "      <td>Cortes</td>\n",
       "      <td>40.415200</td>\n",
       "      <td>-3.696680</td>\n",
       "      <td>Entire home/apt</td>\n",
       "      <td>180.0</td>\n",
       "      <td>6</td>\n",
       "      <td>103</td>\n",
       "      <td>0.68</td>\n",
       "      <td>1</td>\n",
       "      <td>10</td>\n",
       "      <td>Q1_24</td>\n",
       "    </tr>\n",
       "    <tr>\n",
       "      <th>2</th>\n",
       "      <td>24805</td>\n",
       "      <td>Gran Via Studio Madrid</td>\n",
       "      <td>346366726</td>\n",
       "      <td>Universidad</td>\n",
       "      <td>40.421830</td>\n",
       "      <td>-3.705290</td>\n",
       "      <td>Entire home/apt</td>\n",
       "      <td>92.0</td>\n",
       "      <td>5</td>\n",
       "      <td>35</td>\n",
       "      <td>0.31</td>\n",
       "      <td>1</td>\n",
       "      <td>91</td>\n",
       "      <td>Q1_24</td>\n",
       "    </tr>\n",
       "    <tr>\n",
       "      <th>3</th>\n",
       "      <td>205199</td>\n",
       "      <td>Tafari Gran Via</td>\n",
       "      <td>1008659</td>\n",
       "      <td>Universidad</td>\n",
       "      <td>40.421160</td>\n",
       "      <td>-3.703840</td>\n",
       "      <td>Entire home/apt</td>\n",
       "      <td>65.0</td>\n",
       "      <td>7</td>\n",
       "      <td>333</td>\n",
       "      <td>2.18</td>\n",
       "      <td>4</td>\n",
       "      <td>334</td>\n",
       "      <td>Q1_24</td>\n",
       "    </tr>\n",
       "    <tr>\n",
       "      <th>4</th>\n",
       "      <td>209373</td>\n",
       "      <td>Attic in the Heart of Madrid-WIFI</td>\n",
       "      <td>1031664</td>\n",
       "      <td>Embajadores</td>\n",
       "      <td>40.411260</td>\n",
       "      <td>-3.703470</td>\n",
       "      <td>Private room</td>\n",
       "      <td>32.0</td>\n",
       "      <td>1</td>\n",
       "      <td>77</td>\n",
       "      <td>0.52</td>\n",
       "      <td>1</td>\n",
       "      <td>174</td>\n",
       "      <td>Q1_24</td>\n",
       "    </tr>\n",
       "    <tr>\n",
       "      <th>...</th>\n",
       "      <td>...</td>\n",
       "      <td>...</td>\n",
       "      <td>...</td>\n",
       "      <td>...</td>\n",
       "      <td>...</td>\n",
       "      <td>...</td>\n",
       "      <td>...</td>\n",
       "      <td>...</td>\n",
       "      <td>...</td>\n",
       "      <td>...</td>\n",
       "      <td>...</td>\n",
       "      <td>...</td>\n",
       "      <td>...</td>\n",
       "      <td>...</td>\n",
       "    </tr>\n",
       "    <tr>\n",
       "      <th>99914</th>\n",
       "      <td>908757271360095110</td>\n",
       "      <td>Rental unit in Madrid · ★New · 2 bedrooms · 2 ...</td>\n",
       "      <td>518713670</td>\n",
       "      <td>Embajadores</td>\n",
       "      <td>40.409300</td>\n",
       "      <td>-3.695370</td>\n",
       "      <td>Entire home/apt</td>\n",
       "      <td>128.0</td>\n",
       "      <td>30</td>\n",
       "      <td>0</td>\n",
       "      <td>NaN</td>\n",
       "      <td>30</td>\n",
       "      <td>364</td>\n",
       "      <td>Q2_23</td>\n",
       "    </tr>\n",
       "    <tr>\n",
       "      <th>99915</th>\n",
       "      <td>908768034188159973</td>\n",
       "      <td>Rental unit in Madrid · ★New · 3 bedrooms · 3 ...</td>\n",
       "      <td>518713670</td>\n",
       "      <td>Argüelles</td>\n",
       "      <td>40.430675</td>\n",
       "      <td>-3.720135</td>\n",
       "      <td>Entire home/apt</td>\n",
       "      <td>129.0</td>\n",
       "      <td>30</td>\n",
       "      <td>0</td>\n",
       "      <td>NaN</td>\n",
       "      <td>30</td>\n",
       "      <td>365</td>\n",
       "      <td>Q2_23</td>\n",
       "    </tr>\n",
       "    <tr>\n",
       "      <th>99916</th>\n",
       "      <td>908772325334371147</td>\n",
       "      <td>Rental unit in Madrid · ★New · 1 bedroom · 1 b...</td>\n",
       "      <td>460488106</td>\n",
       "      <td>Timón</td>\n",
       "      <td>40.471325</td>\n",
       "      <td>-3.584069</td>\n",
       "      <td>Private room</td>\n",
       "      <td>33.0</td>\n",
       "      <td>1</td>\n",
       "      <td>0</td>\n",
       "      <td>NaN</td>\n",
       "      <td>2</td>\n",
       "      <td>352</td>\n",
       "      <td>Q2_23</td>\n",
       "    </tr>\n",
       "    <tr>\n",
       "      <th>99917</th>\n",
       "      <td>908774672501330570</td>\n",
       "      <td>Rental unit in Madrid · ★New · 1 bedroom · 1 b...</td>\n",
       "      <td>518713670</td>\n",
       "      <td>Castilla</td>\n",
       "      <td>40.470550</td>\n",
       "      <td>-3.673990</td>\n",
       "      <td>Entire home/apt</td>\n",
       "      <td>100.0</td>\n",
       "      <td>30</td>\n",
       "      <td>0</td>\n",
       "      <td>NaN</td>\n",
       "      <td>30</td>\n",
       "      <td>365</td>\n",
       "      <td>Q2_23</td>\n",
       "    </tr>\n",
       "    <tr>\n",
       "      <th>99918</th>\n",
       "      <td>908784742161639676</td>\n",
       "      <td>Rental unit in Madrid · ★New · 2 bedrooms · 2 ...</td>\n",
       "      <td>518713670</td>\n",
       "      <td>Lista</td>\n",
       "      <td>40.431580</td>\n",
       "      <td>-3.674990</td>\n",
       "      <td>Entire home/apt</td>\n",
       "      <td>92.0</td>\n",
       "      <td>30</td>\n",
       "      <td>0</td>\n",
       "      <td>NaN</td>\n",
       "      <td>30</td>\n",
       "      <td>365</td>\n",
       "      <td>Q2_23</td>\n",
       "    </tr>\n",
       "  </tbody>\n",
       "</table>\n",
       "<p>99919 rows × 14 columns</p>\n",
       "</div>"
      ],
      "text/plain": [
       "                       id                                               name  \\\n",
       "0                   21853                               Bright and airy room   \n",
       "1                  204570                 Lovely 110m2 home - Best location!   \n",
       "2                   24805                             Gran Via Studio Madrid   \n",
       "3                  205199                                    Tafari Gran Via   \n",
       "4                  209373                  Attic in the Heart of Madrid-WIFI   \n",
       "...                   ...                                                ...   \n",
       "99914  908757271360095110  Rental unit in Madrid · ★New · 2 bedrooms · 2 ...   \n",
       "99915  908768034188159973  Rental unit in Madrid · ★New · 3 bedrooms · 3 ...   \n",
       "99916  908772325334371147  Rental unit in Madrid · ★New · 1 bedroom · 1 b...   \n",
       "99917  908774672501330570  Rental unit in Madrid · ★New · 1 bedroom · 1 b...   \n",
       "99918  908784742161639676  Rental unit in Madrid · ★New · 2 bedrooms · 2 ...   \n",
       "\n",
       "         host_id neighbourhood   latitude  longitude        room_type  price  \\\n",
       "0          83531      Cármenes  40.403810  -3.741300     Private room   31.0   \n",
       "1        1004721        Cortes  40.415200  -3.696680  Entire home/apt  180.0   \n",
       "2      346366726   Universidad  40.421830  -3.705290  Entire home/apt   92.0   \n",
       "3        1008659   Universidad  40.421160  -3.703840  Entire home/apt   65.0   \n",
       "4        1031664   Embajadores  40.411260  -3.703470     Private room   32.0   \n",
       "...          ...           ...        ...        ...              ...    ...   \n",
       "99914  518713670   Embajadores  40.409300  -3.695370  Entire home/apt  128.0   \n",
       "99915  518713670     Argüelles  40.430675  -3.720135  Entire home/apt  129.0   \n",
       "99916  460488106         Timón  40.471325  -3.584069     Private room   33.0   \n",
       "99917  518713670      Castilla  40.470550  -3.673990  Entire home/apt  100.0   \n",
       "99918  518713670         Lista  40.431580  -3.674990  Entire home/apt   92.0   \n",
       "\n",
       "       minimum_nights  number_of_reviews  reviews_per_month  \\\n",
       "0                   4                 33               0.29   \n",
       "1                   6                103               0.68   \n",
       "2                   5                 35               0.31   \n",
       "3                   7                333               2.18   \n",
       "4                   1                 77               0.52   \n",
       "...               ...                ...                ...   \n",
       "99914              30                  0                NaN   \n",
       "99915              30                  0                NaN   \n",
       "99916               1                  0                NaN   \n",
       "99917              30                  0                NaN   \n",
       "99918              30                  0                NaN   \n",
       "\n",
       "       calculated_host_listings_count  availability_365 quarter  \n",
       "0                                   2               233   Q1_24  \n",
       "1                                   1                10   Q1_24  \n",
       "2                                   1                91   Q1_24  \n",
       "3                                   4               334   Q1_24  \n",
       "4                                   1               174   Q1_24  \n",
       "...                               ...               ...     ...  \n",
       "99914                              30               364   Q2_23  \n",
       "99915                              30               365   Q2_23  \n",
       "99916                               2               352   Q2_23  \n",
       "99917                              30               365   Q2_23  \n",
       "99918                              30               365   Q2_23  \n",
       "\n",
       "[99919 rows x 14 columns]"
      ]
     },
     "execution_count": 308,
     "metadata": {},
     "output_type": "execute_result"
    }
   ],
   "source": [
    "#Call the function for Madrid\n",
    "file_list = ['data/madrid_listing_Q1_24.csv', 'data/madrid_listing_Q4_23.csv', 'data/madrid_listing_Q3_23.csv', 'data/madrid_listing_Q2_23.csv']\n",
    "merged_data_madrid = merge_csv_files(file_list)\n",
    "merged_data_madrid"
   ]
  },
  {
   "cell_type": "code",
   "execution_count": 309,
   "metadata": {},
   "outputs": [
    {
     "data": {
      "text/plain": [
       "0"
      ]
     },
     "execution_count": 309,
     "metadata": {},
     "output_type": "execute_result"
    }
   ],
   "source": [
    "#testing if the price value is filled\n",
    "merged_data_madrid[\"price\"].isnull().sum()"
   ]
  },
  {
   "cell_type": "code",
   "execution_count": 310,
   "metadata": {},
   "outputs": [
    {
     "data": {
      "text/plain": [
       "array(['Q1_24', 'Q4_23', 'Q3_23', 'Q2_23'], dtype=object)"
      ]
     },
     "execution_count": 310,
     "metadata": {},
     "output_type": "execute_result"
    }
   ],
   "source": [
    "#testing quarter column\n",
    "merged_data_madrid[\"quarter\"].unique()"
   ]
  },
  {
   "cell_type": "code",
   "execution_count": 311,
   "metadata": {},
   "outputs": [
    {
     "data": {
      "text/html": [
       "<div>\n",
       "<style scoped>\n",
       "    .dataframe tbody tr th:only-of-type {\n",
       "        vertical-align: middle;\n",
       "    }\n",
       "\n",
       "    .dataframe tbody tr th {\n",
       "        vertical-align: top;\n",
       "    }\n",
       "\n",
       "    .dataframe thead th {\n",
       "        text-align: right;\n",
       "    }\n",
       "</style>\n",
       "<table border=\"1\" class=\"dataframe\">\n",
       "  <thead>\n",
       "    <tr style=\"text-align: right;\">\n",
       "      <th></th>\n",
       "      <th>id</th>\n",
       "      <th>name</th>\n",
       "      <th>host_id</th>\n",
       "      <th>neighbourhood</th>\n",
       "      <th>latitude</th>\n",
       "      <th>longitude</th>\n",
       "      <th>room_type</th>\n",
       "      <th>price</th>\n",
       "      <th>minimum_nights</th>\n",
       "      <th>number_of_reviews</th>\n",
       "      <th>reviews_per_month</th>\n",
       "      <th>calculated_host_listings_count</th>\n",
       "      <th>availability_365</th>\n",
       "      <th>quarter</th>\n",
       "    </tr>\n",
       "  </thead>\n",
       "  <tbody>\n",
       "    <tr>\n",
       "      <th>0</th>\n",
       "      <td>17475</td>\n",
       "      <td>Attic Sagrada Familia</td>\n",
       "      <td>65623</td>\n",
       "      <td>la Dreta de l'Eixample</td>\n",
       "      <td>41.399390</td>\n",
       "      <td>2.170440</td>\n",
       "      <td>Entire home/apt</td>\n",
       "      <td>165.000000</td>\n",
       "      <td>3</td>\n",
       "      <td>29</td>\n",
       "      <td>0.17</td>\n",
       "      <td>1</td>\n",
       "      <td>7</td>\n",
       "      <td>Q1_24</td>\n",
       "    </tr>\n",
       "    <tr>\n",
       "      <th>1</th>\n",
       "      <td>18674</td>\n",
       "      <td>Huge flat for 8 people close to Sagrada Familia</td>\n",
       "      <td>71615</td>\n",
       "      <td>la Sagrada Família</td>\n",
       "      <td>41.405560</td>\n",
       "      <td>2.172620</td>\n",
       "      <td>Entire home/apt</td>\n",
       "      <td>210.000000</td>\n",
       "      <td>1</td>\n",
       "      <td>40</td>\n",
       "      <td>0.30</td>\n",
       "      <td>28</td>\n",
       "      <td>252</td>\n",
       "      <td>Q1_24</td>\n",
       "    </tr>\n",
       "    <tr>\n",
       "      <th>2</th>\n",
       "      <td>23197</td>\n",
       "      <td>Forum CCIB DeLuxe, Spacious, Large Balcony, relax</td>\n",
       "      <td>90417</td>\n",
       "      <td>el Besòs i el Maresme</td>\n",
       "      <td>41.412432</td>\n",
       "      <td>2.219750</td>\n",
       "      <td>Entire home/apt</td>\n",
       "      <td>240.000000</td>\n",
       "      <td>3</td>\n",
       "      <td>74</td>\n",
       "      <td>0.47</td>\n",
       "      <td>1</td>\n",
       "      <td>250</td>\n",
       "      <td>Q1_24</td>\n",
       "    </tr>\n",
       "    <tr>\n",
       "      <th>3</th>\n",
       "      <td>97529</td>\n",
       "      <td>Furnished one bedroom apartment with bathroom</td>\n",
       "      <td>497450</td>\n",
       "      <td>el Camp d'en Grassot i Gràcia Nova</td>\n",
       "      <td>41.408791</td>\n",
       "      <td>2.166066</td>\n",
       "      <td>Entire home/apt</td>\n",
       "      <td>146.488264</td>\n",
       "      <td>120</td>\n",
       "      <td>67</td>\n",
       "      <td>0.45</td>\n",
       "      <td>1</td>\n",
       "      <td>0</td>\n",
       "      <td>Q1_24</td>\n",
       "    </tr>\n",
       "    <tr>\n",
       "      <th>4</th>\n",
       "      <td>32711</td>\n",
       "      <td>Sagrada Familia area - Còrsega 1</td>\n",
       "      <td>135703</td>\n",
       "      <td>el Camp d'en Grassot i Gràcia Nova</td>\n",
       "      <td>41.405660</td>\n",
       "      <td>2.170150</td>\n",
       "      <td>Entire home/apt</td>\n",
       "      <td>129.000000</td>\n",
       "      <td>1</td>\n",
       "      <td>112</td>\n",
       "      <td>0.73</td>\n",
       "      <td>3</td>\n",
       "      <td>248</td>\n",
       "      <td>Q1_24</td>\n",
       "    </tr>\n",
       "    <tr>\n",
       "      <th>...</th>\n",
       "      <td>...</td>\n",
       "      <td>...</td>\n",
       "      <td>...</td>\n",
       "      <td>...</td>\n",
       "      <td>...</td>\n",
       "      <td>...</td>\n",
       "      <td>...</td>\n",
       "      <td>...</td>\n",
       "      <td>...</td>\n",
       "      <td>...</td>\n",
       "      <td>...</td>\n",
       "      <td>...</td>\n",
       "      <td>...</td>\n",
       "      <td>...</td>\n",
       "    </tr>\n",
       "    <tr>\n",
       "      <th>72151</th>\n",
       "      <td>909333050152586756</td>\n",
       "      <td>Rental unit in Barcelona · ★New · 1 bedroom · ...</td>\n",
       "      <td>492807178</td>\n",
       "      <td>Sant Pere, Santa Caterina i la Ribera</td>\n",
       "      <td>41.389625</td>\n",
       "      <td>2.179024</td>\n",
       "      <td>Private room</td>\n",
       "      <td>65.000000</td>\n",
       "      <td>1</td>\n",
       "      <td>0</td>\n",
       "      <td>NaN</td>\n",
       "      <td>33</td>\n",
       "      <td>365</td>\n",
       "      <td>Q2_23</td>\n",
       "    </tr>\n",
       "    <tr>\n",
       "      <th>72152</th>\n",
       "      <td>909347845538314221</td>\n",
       "      <td>Rental unit in Barcelona · ★New · 2 bedrooms ·...</td>\n",
       "      <td>239550764</td>\n",
       "      <td>Sant Gervasi - la Bonanova</td>\n",
       "      <td>41.403783</td>\n",
       "      <td>2.136933</td>\n",
       "      <td>Entire home/apt</td>\n",
       "      <td>63.000000</td>\n",
       "      <td>31</td>\n",
       "      <td>0</td>\n",
       "      <td>NaN</td>\n",
       "      <td>23</td>\n",
       "      <td>145</td>\n",
       "      <td>Q2_23</td>\n",
       "    </tr>\n",
       "    <tr>\n",
       "      <th>72153</th>\n",
       "      <td>909355184941954314</td>\n",
       "      <td>Rental unit in Barcelona · ★New · 1 bedroom · ...</td>\n",
       "      <td>492807178</td>\n",
       "      <td>el Barri Gòtic</td>\n",
       "      <td>41.384334</td>\n",
       "      <td>2.175138</td>\n",
       "      <td>Private room</td>\n",
       "      <td>65.000000</td>\n",
       "      <td>1</td>\n",
       "      <td>0</td>\n",
       "      <td>NaN</td>\n",
       "      <td>33</td>\n",
       "      <td>361</td>\n",
       "      <td>Q2_23</td>\n",
       "    </tr>\n",
       "    <tr>\n",
       "      <th>72154</th>\n",
       "      <td>909364014604079283</td>\n",
       "      <td>Rental unit in Barcelona · ★New · 1 bedroom · ...</td>\n",
       "      <td>492807178</td>\n",
       "      <td>el Raval</td>\n",
       "      <td>41.376588</td>\n",
       "      <td>2.174328</td>\n",
       "      <td>Entire home/apt</td>\n",
       "      <td>100.000000</td>\n",
       "      <td>1</td>\n",
       "      <td>0</td>\n",
       "      <td>NaN</td>\n",
       "      <td>33</td>\n",
       "      <td>355</td>\n",
       "      <td>Q2_23</td>\n",
       "    </tr>\n",
       "    <tr>\n",
       "      <th>72155</th>\n",
       "      <td>909387630966968007</td>\n",
       "      <td>Rental unit in Barcelona · ★New · 1 bedroom · ...</td>\n",
       "      <td>492807178</td>\n",
       "      <td>Sant Pere, Santa Caterina i la Ribera</td>\n",
       "      <td>41.390315</td>\n",
       "      <td>2.178998</td>\n",
       "      <td>Private room</td>\n",
       "      <td>65.000000</td>\n",
       "      <td>1</td>\n",
       "      <td>0</td>\n",
       "      <td>NaN</td>\n",
       "      <td>33</td>\n",
       "      <td>359</td>\n",
       "      <td>Q2_23</td>\n",
       "    </tr>\n",
       "  </tbody>\n",
       "</table>\n",
       "<p>72156 rows × 14 columns</p>\n",
       "</div>"
      ],
      "text/plain": [
       "                       id                                               name  \\\n",
       "0                   17475                              Attic Sagrada Familia   \n",
       "1                   18674    Huge flat for 8 people close to Sagrada Familia   \n",
       "2                   23197  Forum CCIB DeLuxe, Spacious, Large Balcony, relax   \n",
       "3                   97529      Furnished one bedroom apartment with bathroom   \n",
       "4                   32711                   Sagrada Familia area - Còrsega 1   \n",
       "...                   ...                                                ...   \n",
       "72151  909333050152586756  Rental unit in Barcelona · ★New · 1 bedroom · ...   \n",
       "72152  909347845538314221  Rental unit in Barcelona · ★New · 2 bedrooms ·...   \n",
       "72153  909355184941954314  Rental unit in Barcelona · ★New · 1 bedroom · ...   \n",
       "72154  909364014604079283  Rental unit in Barcelona · ★New · 1 bedroom · ...   \n",
       "72155  909387630966968007  Rental unit in Barcelona · ★New · 1 bedroom · ...   \n",
       "\n",
       "         host_id                          neighbourhood   latitude  longitude  \\\n",
       "0          65623                 la Dreta de l'Eixample  41.399390   2.170440   \n",
       "1          71615                     la Sagrada Família  41.405560   2.172620   \n",
       "2          90417                  el Besòs i el Maresme  41.412432   2.219750   \n",
       "3         497450     el Camp d'en Grassot i Gràcia Nova  41.408791   2.166066   \n",
       "4         135703     el Camp d'en Grassot i Gràcia Nova  41.405660   2.170150   \n",
       "...          ...                                    ...        ...        ...   \n",
       "72151  492807178  Sant Pere, Santa Caterina i la Ribera  41.389625   2.179024   \n",
       "72152  239550764             Sant Gervasi - la Bonanova  41.403783   2.136933   \n",
       "72153  492807178                         el Barri Gòtic  41.384334   2.175138   \n",
       "72154  492807178                               el Raval  41.376588   2.174328   \n",
       "72155  492807178  Sant Pere, Santa Caterina i la Ribera  41.390315   2.178998   \n",
       "\n",
       "             room_type       price  minimum_nights  number_of_reviews  \\\n",
       "0      Entire home/apt  165.000000               3                 29   \n",
       "1      Entire home/apt  210.000000               1                 40   \n",
       "2      Entire home/apt  240.000000               3                 74   \n",
       "3      Entire home/apt  146.488264             120                 67   \n",
       "4      Entire home/apt  129.000000               1                112   \n",
       "...                ...         ...             ...                ...   \n",
       "72151     Private room   65.000000               1                  0   \n",
       "72152  Entire home/apt   63.000000              31                  0   \n",
       "72153     Private room   65.000000               1                  0   \n",
       "72154  Entire home/apt  100.000000               1                  0   \n",
       "72155     Private room   65.000000               1                  0   \n",
       "\n",
       "       reviews_per_month  calculated_host_listings_count  availability_365  \\\n",
       "0                   0.17                               1                 7   \n",
       "1                   0.30                              28               252   \n",
       "2                   0.47                               1               250   \n",
       "3                   0.45                               1                 0   \n",
       "4                   0.73                               3               248   \n",
       "...                  ...                             ...               ...   \n",
       "72151                NaN                              33               365   \n",
       "72152                NaN                              23               145   \n",
       "72153                NaN                              33               361   \n",
       "72154                NaN                              33               355   \n",
       "72155                NaN                              33               359   \n",
       "\n",
       "      quarter  \n",
       "0       Q1_24  \n",
       "1       Q1_24  \n",
       "2       Q1_24  \n",
       "3       Q1_24  \n",
       "4       Q1_24  \n",
       "...       ...  \n",
       "72151   Q2_23  \n",
       "72152   Q2_23  \n",
       "72153   Q2_23  \n",
       "72154   Q2_23  \n",
       "72155   Q2_23  \n",
       "\n",
       "[72156 rows x 14 columns]"
      ]
     },
     "execution_count": 311,
     "metadata": {},
     "output_type": "execute_result"
    }
   ],
   "source": [
    "#Calling the function for Barcelona\n",
    "file_list = ['data/barcelona_listing_Q1_24.csv', 'data/barcelona_listing_Q4_23.csv', 'data/barcelona_listing_Q3_23.csv', 'data/barcelona_listing_Q2_23.csv']\n",
    "merged_data_barcelona = merge_csv_files(file_list)\n",
    "merged_data_barcelona"
   ]
  },
  {
   "cell_type": "code",
   "execution_count": 312,
   "metadata": {},
   "outputs": [
    {
     "data": {
      "text/plain": [
       "0"
      ]
     },
     "execution_count": 312,
     "metadata": {},
     "output_type": "execute_result"
    }
   ],
   "source": [
    "#testing if the price value is filled\n",
    "merged_data_barcelona[\"price\"].isnull().sum()"
   ]
  },
  {
   "cell_type": "code",
   "execution_count": 313,
   "metadata": {},
   "outputs": [
    {
     "data": {
      "text/plain": [
       "array(['Q1_24', 'Q4_23', 'Q3_23', 'Q2_23'], dtype=object)"
      ]
     },
     "execution_count": 313,
     "metadata": {},
     "output_type": "execute_result"
    }
   ],
   "source": [
    "#testing quarter column\n",
    "merged_data_barcelona[\"quarter\"].unique()"
   ]
  },
  {
   "cell_type": "code",
   "execution_count": 314,
   "metadata": {},
   "outputs": [
    {
     "data": {
      "text/html": [
       "<div>\n",
       "<style scoped>\n",
       "    .dataframe tbody tr th:only-of-type {\n",
       "        vertical-align: middle;\n",
       "    }\n",
       "\n",
       "    .dataframe tbody tr th {\n",
       "        vertical-align: top;\n",
       "    }\n",
       "\n",
       "    .dataframe thead th {\n",
       "        text-align: right;\n",
       "    }\n",
       "</style>\n",
       "<table border=\"1\" class=\"dataframe\">\n",
       "  <thead>\n",
       "    <tr style=\"text-align: right;\">\n",
       "      <th></th>\n",
       "      <th>id</th>\n",
       "      <th>name</th>\n",
       "      <th>host_id</th>\n",
       "      <th>neighbourhood</th>\n",
       "      <th>latitude</th>\n",
       "      <th>longitude</th>\n",
       "      <th>room_type</th>\n",
       "      <th>price</th>\n",
       "      <th>minimum_nights</th>\n",
       "      <th>number_of_reviews</th>\n",
       "      <th>reviews_per_month</th>\n",
       "      <th>calculated_host_listings_count</th>\n",
       "      <th>availability_365</th>\n",
       "      <th>quarter</th>\n",
       "    </tr>\n",
       "  </thead>\n",
       "  <tbody>\n",
       "    <tr>\n",
       "      <th>0</th>\n",
       "      <td>25436</td>\n",
       "      <td>In the forest Sea view Two minutes to the city.</td>\n",
       "      <td>105823</td>\n",
       "      <td>Besiktas</td>\n",
       "      <td>41.078830</td>\n",
       "      <td>29.038630</td>\n",
       "      <td>Entire home/apt</td>\n",
       "      <td>3311.50536</td>\n",
       "      <td>7</td>\n",
       "      <td>0</td>\n",
       "      <td>NaN</td>\n",
       "      <td>1</td>\n",
       "      <td>0</td>\n",
       "      <td>Q1_24</td>\n",
       "    </tr>\n",
       "    <tr>\n",
       "      <th>1</th>\n",
       "      <td>28318</td>\n",
       "      <td>Cosy home overlooking Bosphorus</td>\n",
       "      <td>121721</td>\n",
       "      <td>Sariyer</td>\n",
       "      <td>41.091040</td>\n",
       "      <td>29.055800</td>\n",
       "      <td>Entire home/apt</td>\n",
       "      <td>4034.00000</td>\n",
       "      <td>3</td>\n",
       "      <td>0</td>\n",
       "      <td>NaN</td>\n",
       "      <td>1</td>\n",
       "      <td>81</td>\n",
       "      <td>Q1_24</td>\n",
       "    </tr>\n",
       "    <tr>\n",
       "      <th>2</th>\n",
       "      <td>34177</td>\n",
       "      <td>PETIT HOUSE</td>\n",
       "      <td>147330</td>\n",
       "      <td>Besiktas</td>\n",
       "      <td>41.066810</td>\n",
       "      <td>29.040350</td>\n",
       "      <td>Entire home/apt</td>\n",
       "      <td>1291.00000</td>\n",
       "      <td>10</td>\n",
       "      <td>16</td>\n",
       "      <td>0.16</td>\n",
       "      <td>2</td>\n",
       "      <td>364</td>\n",
       "      <td>Q1_24</td>\n",
       "    </tr>\n",
       "    <tr>\n",
       "      <th>3</th>\n",
       "      <td>701899</td>\n",
       "      <td>Artist's Studio, Central &amp; Near Taksim</td>\n",
       "      <td>3195183</td>\n",
       "      <td>Sisli</td>\n",
       "      <td>41.048990</td>\n",
       "      <td>28.986460</td>\n",
       "      <td>Entire home/apt</td>\n",
       "      <td>1305.00000</td>\n",
       "      <td>2</td>\n",
       "      <td>274</td>\n",
       "      <td>1.96</td>\n",
       "      <td>8</td>\n",
       "      <td>362</td>\n",
       "      <td>Q1_24</td>\n",
       "    </tr>\n",
       "    <tr>\n",
       "      <th>4</th>\n",
       "      <td>42835</td>\n",
       "      <td>Cozy apartment in the heart of Istanbul</td>\n",
       "      <td>187026</td>\n",
       "      <td>Sisli</td>\n",
       "      <td>41.043030</td>\n",
       "      <td>28.985310</td>\n",
       "      <td>Entire home/apt</td>\n",
       "      <td>2264.00000</td>\n",
       "      <td>3</td>\n",
       "      <td>0</td>\n",
       "      <td>NaN</td>\n",
       "      <td>3</td>\n",
       "      <td>87</td>\n",
       "      <td>Q1_24</td>\n",
       "    </tr>\n",
       "    <tr>\n",
       "      <th>...</th>\n",
       "      <td>...</td>\n",
       "      <td>...</td>\n",
       "      <td>...</td>\n",
       "      <td>...</td>\n",
       "      <td>...</td>\n",
       "      <td>...</td>\n",
       "      <td>...</td>\n",
       "      <td>...</td>\n",
       "      <td>...</td>\n",
       "      <td>...</td>\n",
       "      <td>...</td>\n",
       "      <td>...</td>\n",
       "      <td>...</td>\n",
       "      <td>...</td>\n",
       "    </tr>\n",
       "    <tr>\n",
       "      <th>165475</th>\n",
       "      <td>924232365240939181</td>\n",
       "      <td>Rental unit in Beyoğlu · ★New · 1 bedroom · 1 ...</td>\n",
       "      <td>333707536</td>\n",
       "      <td>Beyoglu</td>\n",
       "      <td>41.026720</td>\n",
       "      <td>28.974220</td>\n",
       "      <td>Entire home/apt</td>\n",
       "      <td>2710.00000</td>\n",
       "      <td>2</td>\n",
       "      <td>0</td>\n",
       "      <td>NaN</td>\n",
       "      <td>4</td>\n",
       "      <td>168</td>\n",
       "      <td>Q2_23</td>\n",
       "    </tr>\n",
       "    <tr>\n",
       "      <th>165476</th>\n",
       "      <td>924262234078527293</td>\n",
       "      <td>Rental unit in Beşiktaş · ★New · 2 bedrooms · ...</td>\n",
       "      <td>101823564</td>\n",
       "      <td>Besiktas</td>\n",
       "      <td>41.043915</td>\n",
       "      <td>28.999423</td>\n",
       "      <td>Entire home/apt</td>\n",
       "      <td>1600.00000</td>\n",
       "      <td>15</td>\n",
       "      <td>0</td>\n",
       "      <td>NaN</td>\n",
       "      <td>2</td>\n",
       "      <td>365</td>\n",
       "      <td>Q2_23</td>\n",
       "    </tr>\n",
       "    <tr>\n",
       "      <th>165477</th>\n",
       "      <td>924507008316082291</td>\n",
       "      <td>Rental unit in Şişli · ★New · 1 bedroom · 1 be...</td>\n",
       "      <td>465985296</td>\n",
       "      <td>Sisli</td>\n",
       "      <td>41.056258</td>\n",
       "      <td>28.990235</td>\n",
       "      <td>Entire home/apt</td>\n",
       "      <td>1589.00000</td>\n",
       "      <td>4</td>\n",
       "      <td>0</td>\n",
       "      <td>NaN</td>\n",
       "      <td>1</td>\n",
       "      <td>365</td>\n",
       "      <td>Q2_23</td>\n",
       "    </tr>\n",
       "    <tr>\n",
       "      <th>165478</th>\n",
       "      <td>924599239946903466</td>\n",
       "      <td>Home in Şile · ★New · 1 bedroom · 1 bed · 1 bath</td>\n",
       "      <td>522743414</td>\n",
       "      <td>Sile</td>\n",
       "      <td>41.164707</td>\n",
       "      <td>29.637389</td>\n",
       "      <td>Entire home/apt</td>\n",
       "      <td>1403.00000</td>\n",
       "      <td>1</td>\n",
       "      <td>0</td>\n",
       "      <td>NaN</td>\n",
       "      <td>1</td>\n",
       "      <td>264</td>\n",
       "      <td>Q2_23</td>\n",
       "    </tr>\n",
       "    <tr>\n",
       "      <th>165479</th>\n",
       "      <td>924611456373330376</td>\n",
       "      <td>Home in Fatih · ★New · 1 bedroom · 1 bed · 2 b...</td>\n",
       "      <td>474189573</td>\n",
       "      <td>Fatih</td>\n",
       "      <td>41.029940</td>\n",
       "      <td>28.948510</td>\n",
       "      <td>Private room</td>\n",
       "      <td>4057.00000</td>\n",
       "      <td>1</td>\n",
       "      <td>0</td>\n",
       "      <td>NaN</td>\n",
       "      <td>1</td>\n",
       "      <td>262</td>\n",
       "      <td>Q2_23</td>\n",
       "    </tr>\n",
       "  </tbody>\n",
       "</table>\n",
       "<p>165480 rows × 14 columns</p>\n",
       "</div>"
      ],
      "text/plain": [
       "                        id                                               name  \\\n",
       "0                    25436    In the forest Sea view Two minutes to the city.   \n",
       "1                    28318                    Cosy home overlooking Bosphorus   \n",
       "2                    34177                                        PETIT HOUSE   \n",
       "3                   701899             Artist's Studio, Central & Near Taksim   \n",
       "4                    42835            Cozy apartment in the heart of Istanbul   \n",
       "...                    ...                                                ...   \n",
       "165475  924232365240939181  Rental unit in Beyoğlu · ★New · 1 bedroom · 1 ...   \n",
       "165476  924262234078527293  Rental unit in Beşiktaş · ★New · 2 bedrooms · ...   \n",
       "165477  924507008316082291  Rental unit in Şişli · ★New · 1 bedroom · 1 be...   \n",
       "165478  924599239946903466   Home in Şile · ★New · 1 bedroom · 1 bed · 1 bath   \n",
       "165479  924611456373330376  Home in Fatih · ★New · 1 bedroom · 1 bed · 2 b...   \n",
       "\n",
       "          host_id neighbourhood   latitude  longitude        room_type  \\\n",
       "0          105823      Besiktas  41.078830  29.038630  Entire home/apt   \n",
       "1          121721       Sariyer  41.091040  29.055800  Entire home/apt   \n",
       "2          147330      Besiktas  41.066810  29.040350  Entire home/apt   \n",
       "3         3195183         Sisli  41.048990  28.986460  Entire home/apt   \n",
       "4          187026         Sisli  41.043030  28.985310  Entire home/apt   \n",
       "...           ...           ...        ...        ...              ...   \n",
       "165475  333707536       Beyoglu  41.026720  28.974220  Entire home/apt   \n",
       "165476  101823564      Besiktas  41.043915  28.999423  Entire home/apt   \n",
       "165477  465985296         Sisli  41.056258  28.990235  Entire home/apt   \n",
       "165478  522743414          Sile  41.164707  29.637389  Entire home/apt   \n",
       "165479  474189573         Fatih  41.029940  28.948510     Private room   \n",
       "\n",
       "             price  minimum_nights  number_of_reviews  reviews_per_month  \\\n",
       "0       3311.50536               7                  0                NaN   \n",
       "1       4034.00000               3                  0                NaN   \n",
       "2       1291.00000              10                 16               0.16   \n",
       "3       1305.00000               2                274               1.96   \n",
       "4       2264.00000               3                  0                NaN   \n",
       "...            ...             ...                ...                ...   \n",
       "165475  2710.00000               2                  0                NaN   \n",
       "165476  1600.00000              15                  0                NaN   \n",
       "165477  1589.00000               4                  0                NaN   \n",
       "165478  1403.00000               1                  0                NaN   \n",
       "165479  4057.00000               1                  0                NaN   \n",
       "\n",
       "        calculated_host_listings_count  availability_365 quarter  \n",
       "0                                    1                 0   Q1_24  \n",
       "1                                    1                81   Q1_24  \n",
       "2                                    2               364   Q1_24  \n",
       "3                                    8               362   Q1_24  \n",
       "4                                    3                87   Q1_24  \n",
       "...                                ...               ...     ...  \n",
       "165475                               4               168   Q2_23  \n",
       "165476                               2               365   Q2_23  \n",
       "165477                               1               365   Q2_23  \n",
       "165478                               1               264   Q2_23  \n",
       "165479                               1               262   Q2_23  \n",
       "\n",
       "[165480 rows x 14 columns]"
      ]
     },
     "execution_count": 314,
     "metadata": {},
     "output_type": "execute_result"
    }
   ],
   "source": [
    "#Calling the function for Istanbul\n",
    "file_list = ['data/istanbul_listing_Q1_24.csv', 'data/istanbul_listing_Q4_23.csv', 'data/istanbul_listing_Q3_23.csv', 'data/istanbul_listing_Q2_23.csv']\n",
    "merged_data_istanbul = merge_csv_files(file_list)\n",
    "merged_data_istanbul"
   ]
  },
  {
   "cell_type": "code",
   "execution_count": 315,
   "metadata": {},
   "outputs": [
    {
     "data": {
      "text/plain": [
       "0"
      ]
     },
     "execution_count": 315,
     "metadata": {},
     "output_type": "execute_result"
    }
   ],
   "source": [
    "#testing if the price value is filled\n",
    "merged_data_istanbul[\"price\"].isnull().sum()"
   ]
  },
  {
   "cell_type": "code",
   "execution_count": 316,
   "metadata": {},
   "outputs": [
    {
     "data": {
      "text/plain": [
       "array(['Q1_24', 'Q4_23', 'Q3_23', 'Q2_23'], dtype=object)"
      ]
     },
     "execution_count": 316,
     "metadata": {},
     "output_type": "execute_result"
    }
   ],
   "source": [
    "#testing quarter column\n",
    "merged_data_istanbul[\"quarter\"].unique()"
   ]
  },
  {
   "cell_type": "code",
   "execution_count": 317,
   "metadata": {},
   "outputs": [
    {
     "name": "stderr",
     "output_type": "stream",
     "text": [
      "/var/folders/vp/y35h7cns1893095_3t9y959w0000gn/T/ipykernel_20453/2850524593.py:14: DtypeWarning:\n",
      "\n",
      "Columns (17) have mixed types. Specify dtype option on import or set low_memory=False.\n",
      "\n"
     ]
    },
    {
     "data": {
      "text/html": [
       "<div>\n",
       "<style scoped>\n",
       "    .dataframe tbody tr th:only-of-type {\n",
       "        vertical-align: middle;\n",
       "    }\n",
       "\n",
       "    .dataframe tbody tr th {\n",
       "        vertical-align: top;\n",
       "    }\n",
       "\n",
       "    .dataframe thead th {\n",
       "        text-align: right;\n",
       "    }\n",
       "</style>\n",
       "<table border=\"1\" class=\"dataframe\">\n",
       "  <thead>\n",
       "    <tr style=\"text-align: right;\">\n",
       "      <th></th>\n",
       "      <th>id</th>\n",
       "      <th>name</th>\n",
       "      <th>host_id</th>\n",
       "      <th>neighbourhood</th>\n",
       "      <th>latitude</th>\n",
       "      <th>longitude</th>\n",
       "      <th>room_type</th>\n",
       "      <th>price</th>\n",
       "      <th>minimum_nights</th>\n",
       "      <th>number_of_reviews</th>\n",
       "      <th>reviews_per_month</th>\n",
       "      <th>calculated_host_listings_count</th>\n",
       "      <th>availability_365</th>\n",
       "      <th>quarter</th>\n",
       "    </tr>\n",
       "  </thead>\n",
       "  <tbody>\n",
       "    <tr>\n",
       "      <th>0</th>\n",
       "      <td>159736</td>\n",
       "      <td>A double Room 5mins from King's College Hospital</td>\n",
       "      <td>766056</td>\n",
       "      <td>Lambeth</td>\n",
       "      <td>51.467880</td>\n",
       "      <td>-0.099930</td>\n",
       "      <td>Private room</td>\n",
       "      <td>65.0</td>\n",
       "      <td>4</td>\n",
       "      <td>96</td>\n",
       "      <td>0.62</td>\n",
       "      <td>4</td>\n",
       "      <td>268</td>\n",
       "      <td>Q1_24</td>\n",
       "    </tr>\n",
       "    <tr>\n",
       "      <th>1</th>\n",
       "      <td>312761</td>\n",
       "      <td>Spacious Central London Apartment by Hoxton Sq...</td>\n",
       "      <td>1608226</td>\n",
       "      <td>Hackney</td>\n",
       "      <td>51.527040</td>\n",
       "      <td>-0.081290</td>\n",
       "      <td>Entire home/apt</td>\n",
       "      <td>160.0</td>\n",
       "      <td>9</td>\n",
       "      <td>122</td>\n",
       "      <td>0.86</td>\n",
       "      <td>1</td>\n",
       "      <td>81</td>\n",
       "      <td>Q1_24</td>\n",
       "    </tr>\n",
       "    <tr>\n",
       "      <th>2</th>\n",
       "      <td>13913</td>\n",
       "      <td>Holiday London DB Room Let-on going</td>\n",
       "      <td>54730</td>\n",
       "      <td>Islington</td>\n",
       "      <td>51.568610</td>\n",
       "      <td>-0.112700</td>\n",
       "      <td>Private room</td>\n",
       "      <td>65.0</td>\n",
       "      <td>1</td>\n",
       "      <td>41</td>\n",
       "      <td>0.25</td>\n",
       "      <td>3</td>\n",
       "      <td>351</td>\n",
       "      <td>Q1_24</td>\n",
       "    </tr>\n",
       "    <tr>\n",
       "      <th>3</th>\n",
       "      <td>165336</td>\n",
       "      <td>Charming Flat in Notting Hill</td>\n",
       "      <td>761400</td>\n",
       "      <td>Kensington and Chelsea</td>\n",
       "      <td>51.517350</td>\n",
       "      <td>-0.210760</td>\n",
       "      <td>Entire home/apt</td>\n",
       "      <td>100.0</td>\n",
       "      <td>1</td>\n",
       "      <td>237</td>\n",
       "      <td>1.57</td>\n",
       "      <td>1</td>\n",
       "      <td>3</td>\n",
       "      <td>Q1_24</td>\n",
       "    </tr>\n",
       "    <tr>\n",
       "      <th>4</th>\n",
       "      <td>15400</td>\n",
       "      <td>Bright Chelsea  Apartment. Chelsea!</td>\n",
       "      <td>60302</td>\n",
       "      <td>Kensington and Chelsea</td>\n",
       "      <td>51.487800</td>\n",
       "      <td>-0.168130</td>\n",
       "      <td>Entire home/apt</td>\n",
       "      <td>120.0</td>\n",
       "      <td>4</td>\n",
       "      <td>94</td>\n",
       "      <td>0.54</td>\n",
       "      <td>1</td>\n",
       "      <td>88</td>\n",
       "      <td>Q1_24</td>\n",
       "    </tr>\n",
       "    <tr>\n",
       "      <th>...</th>\n",
       "      <td>...</td>\n",
       "      <td>...</td>\n",
       "      <td>...</td>\n",
       "      <td>...</td>\n",
       "      <td>...</td>\n",
       "      <td>...</td>\n",
       "      <td>...</td>\n",
       "      <td>...</td>\n",
       "      <td>...</td>\n",
       "      <td>...</td>\n",
       "      <td>...</td>\n",
       "      <td>...</td>\n",
       "      <td>...</td>\n",
       "      <td>...</td>\n",
       "    </tr>\n",
       "    <tr>\n",
       "      <th>352369</th>\n",
       "      <td>908448542533162051</td>\n",
       "      <td>Rental unit in Greater London · ★New · 1 bedro...</td>\n",
       "      <td>314162972</td>\n",
       "      <td>Westminster</td>\n",
       "      <td>51.531046</td>\n",
       "      <td>-0.176821</td>\n",
       "      <td>Entire home/apt</td>\n",
       "      <td>169.0</td>\n",
       "      <td>90</td>\n",
       "      <td>0</td>\n",
       "      <td>NaN</td>\n",
       "      <td>280</td>\n",
       "      <td>1</td>\n",
       "      <td>Q2_23</td>\n",
       "    </tr>\n",
       "    <tr>\n",
       "      <th>352370</th>\n",
       "      <td>908448851903630292</td>\n",
       "      <td>Rental unit in Greater London · ★New · 2 bedro...</td>\n",
       "      <td>314162972</td>\n",
       "      <td>Lambeth</td>\n",
       "      <td>51.499511</td>\n",
       "      <td>-0.114164</td>\n",
       "      <td>Entire home/apt</td>\n",
       "      <td>170.0</td>\n",
       "      <td>30</td>\n",
       "      <td>0</td>\n",
       "      <td>NaN</td>\n",
       "      <td>280</td>\n",
       "      <td>272</td>\n",
       "      <td>Q2_23</td>\n",
       "    </tr>\n",
       "    <tr>\n",
       "      <th>352371</th>\n",
       "      <td>908450386316337239</td>\n",
       "      <td>Rental unit in Greater London · ★New · 1 bedro...</td>\n",
       "      <td>36404387</td>\n",
       "      <td>Hackney</td>\n",
       "      <td>51.557216</td>\n",
       "      <td>-0.067643</td>\n",
       "      <td>Private room</td>\n",
       "      <td>40.0</td>\n",
       "      <td>2</td>\n",
       "      <td>0</td>\n",
       "      <td>NaN</td>\n",
       "      <td>1</td>\n",
       "      <td>166</td>\n",
       "      <td>Q2_23</td>\n",
       "    </tr>\n",
       "    <tr>\n",
       "      <th>352372</th>\n",
       "      <td>908452889848079702</td>\n",
       "      <td>Rental unit in Greater London · ★New · 3 bedro...</td>\n",
       "      <td>518621554</td>\n",
       "      <td>Westminster</td>\n",
       "      <td>51.515650</td>\n",
       "      <td>-0.179570</td>\n",
       "      <td>Entire home/apt</td>\n",
       "      <td>392.0</td>\n",
       "      <td>3</td>\n",
       "      <td>0</td>\n",
       "      <td>NaN</td>\n",
       "      <td>2</td>\n",
       "      <td>90</td>\n",
       "      <td>Q2_23</td>\n",
       "    </tr>\n",
       "    <tr>\n",
       "      <th>352373</th>\n",
       "      <td>908453389034894825</td>\n",
       "      <td>Rental unit in Greater London · ★New · 2 bedro...</td>\n",
       "      <td>504311587</td>\n",
       "      <td>Greenwich</td>\n",
       "      <td>51.484432</td>\n",
       "      <td>0.002025</td>\n",
       "      <td>Entire home/apt</td>\n",
       "      <td>169.0</td>\n",
       "      <td>5</td>\n",
       "      <td>0</td>\n",
       "      <td>NaN</td>\n",
       "      <td>15</td>\n",
       "      <td>88</td>\n",
       "      <td>Q2_23</td>\n",
       "    </tr>\n",
       "  </tbody>\n",
       "</table>\n",
       "<p>352374 rows × 14 columns</p>\n",
       "</div>"
      ],
      "text/plain": [
       "                        id                                               name  \\\n",
       "0                   159736   A double Room 5mins from King's College Hospital   \n",
       "1                   312761  Spacious Central London Apartment by Hoxton Sq...   \n",
       "2                    13913                Holiday London DB Room Let-on going   \n",
       "3                   165336                      Charming Flat in Notting Hill   \n",
       "4                    15400                Bright Chelsea  Apartment. Chelsea!   \n",
       "...                    ...                                                ...   \n",
       "352369  908448542533162051  Rental unit in Greater London · ★New · 1 bedro...   \n",
       "352370  908448851903630292  Rental unit in Greater London · ★New · 2 bedro...   \n",
       "352371  908450386316337239  Rental unit in Greater London · ★New · 1 bedro...   \n",
       "352372  908452889848079702  Rental unit in Greater London · ★New · 3 bedro...   \n",
       "352373  908453389034894825  Rental unit in Greater London · ★New · 2 bedro...   \n",
       "\n",
       "          host_id           neighbourhood   latitude  longitude  \\\n",
       "0          766056                 Lambeth  51.467880  -0.099930   \n",
       "1         1608226                 Hackney  51.527040  -0.081290   \n",
       "2           54730               Islington  51.568610  -0.112700   \n",
       "3          761400  Kensington and Chelsea  51.517350  -0.210760   \n",
       "4           60302  Kensington and Chelsea  51.487800  -0.168130   \n",
       "...           ...                     ...        ...        ...   \n",
       "352369  314162972             Westminster  51.531046  -0.176821   \n",
       "352370  314162972                 Lambeth  51.499511  -0.114164   \n",
       "352371   36404387                 Hackney  51.557216  -0.067643   \n",
       "352372  518621554             Westminster  51.515650  -0.179570   \n",
       "352373  504311587               Greenwich  51.484432   0.002025   \n",
       "\n",
       "              room_type  price  minimum_nights  number_of_reviews  \\\n",
       "0          Private room   65.0               4                 96   \n",
       "1       Entire home/apt  160.0               9                122   \n",
       "2          Private room   65.0               1                 41   \n",
       "3       Entire home/apt  100.0               1                237   \n",
       "4       Entire home/apt  120.0               4                 94   \n",
       "...                 ...    ...             ...                ...   \n",
       "352369  Entire home/apt  169.0              90                  0   \n",
       "352370  Entire home/apt  170.0              30                  0   \n",
       "352371     Private room   40.0               2                  0   \n",
       "352372  Entire home/apt  392.0               3                  0   \n",
       "352373  Entire home/apt  169.0               5                  0   \n",
       "\n",
       "        reviews_per_month  calculated_host_listings_count  availability_365  \\\n",
       "0                    0.62                               4               268   \n",
       "1                    0.86                               1                81   \n",
       "2                    0.25                               3               351   \n",
       "3                    1.57                               1                 3   \n",
       "4                    0.54                               1                88   \n",
       "...                   ...                             ...               ...   \n",
       "352369                NaN                             280                 1   \n",
       "352370                NaN                             280               272   \n",
       "352371                NaN                               1               166   \n",
       "352372                NaN                               2                90   \n",
       "352373                NaN                              15                88   \n",
       "\n",
       "       quarter  \n",
       "0        Q1_24  \n",
       "1        Q1_24  \n",
       "2        Q1_24  \n",
       "3        Q1_24  \n",
       "4        Q1_24  \n",
       "...        ...  \n",
       "352369   Q2_23  \n",
       "352370   Q2_23  \n",
       "352371   Q2_23  \n",
       "352372   Q2_23  \n",
       "352373   Q2_23  \n",
       "\n",
       "[352374 rows x 14 columns]"
      ]
     },
     "execution_count": 317,
     "metadata": {},
     "output_type": "execute_result"
    }
   ],
   "source": [
    "#Calling the function for London\n",
    "file_list = ['data/london_listing_Q1_24.csv', 'data/london_listing_Q4_23.csv', 'data/london_listing_Q3_23.csv', 'data/london_listing_Q2_23.csv']\n",
    "merged_data_london = merge_csv_files(file_list)\n",
    "merged_data_london"
   ]
  },
  {
   "cell_type": "code",
   "execution_count": 318,
   "metadata": {},
   "outputs": [
    {
     "data": {
      "text/plain": [
       "0"
      ]
     },
     "execution_count": 318,
     "metadata": {},
     "output_type": "execute_result"
    }
   ],
   "source": [
    "#testing if the price value is filled\n",
    "merged_data_london[\"price\"].isnull().sum()"
   ]
  },
  {
   "cell_type": "code",
   "execution_count": 319,
   "metadata": {},
   "outputs": [
    {
     "data": {
      "text/plain": [
       "array(['Q1_24', 'Q4_23', 'Q3_23', 'Q2_23'], dtype=object)"
      ]
     },
     "execution_count": 319,
     "metadata": {},
     "output_type": "execute_result"
    }
   ],
   "source": [
    "#testing quarter column\n",
    "merged_data_london[\"quarter\"].unique()"
   ]
  },
  {
   "cell_type": "code",
   "execution_count": 320,
   "metadata": {},
   "outputs": [
    {
     "data": {
      "text/html": [
       "<div>\n",
       "<style scoped>\n",
       "    .dataframe tbody tr th:only-of-type {\n",
       "        vertical-align: middle;\n",
       "    }\n",
       "\n",
       "    .dataframe tbody tr th {\n",
       "        vertical-align: top;\n",
       "    }\n",
       "\n",
       "    .dataframe thead th {\n",
       "        text-align: right;\n",
       "    }\n",
       "</style>\n",
       "<table border=\"1\" class=\"dataframe\">\n",
       "  <thead>\n",
       "    <tr style=\"text-align: right;\">\n",
       "      <th></th>\n",
       "      <th>id</th>\n",
       "      <th>name</th>\n",
       "      <th>host_id</th>\n",
       "      <th>neighbourhood</th>\n",
       "      <th>latitude</th>\n",
       "      <th>longitude</th>\n",
       "      <th>room_type</th>\n",
       "      <th>price</th>\n",
       "      <th>minimum_nights</th>\n",
       "      <th>number_of_reviews</th>\n",
       "      <th>reviews_per_month</th>\n",
       "      <th>calculated_host_listings_count</th>\n",
       "      <th>availability_365</th>\n",
       "      <th>quarter</th>\n",
       "    </tr>\n",
       "  </thead>\n",
       "  <tbody>\n",
       "    <tr>\n",
       "      <th>0</th>\n",
       "      <td>39948</td>\n",
       "      <td>COSY INDEPENDENT ROOM IN CENTRAL PARIS</td>\n",
       "      <td>171483</td>\n",
       "      <td>Bourse</td>\n",
       "      <td>48.870680</td>\n",
       "      <td>2.344600</td>\n",
       "      <td>Private room</td>\n",
       "      <td>288.66241</td>\n",
       "      <td>5</td>\n",
       "      <td>126</td>\n",
       "      <td>0.99</td>\n",
       "      <td>1</td>\n",
       "      <td>2</td>\n",
       "      <td>Q1_24</td>\n",
       "    </tr>\n",
       "    <tr>\n",
       "      <th>1</th>\n",
       "      <td>40143</td>\n",
       "      <td>Stylish &amp; Design 1BR flat- Voltaire Bastille</td>\n",
       "      <td>172322</td>\n",
       "      <td>Popincourt</td>\n",
       "      <td>48.857190</td>\n",
       "      <td>2.378310</td>\n",
       "      <td>Entire home/apt</td>\n",
       "      <td>288.66241</td>\n",
       "      <td>365</td>\n",
       "      <td>11</td>\n",
       "      <td>0.07</td>\n",
       "      <td>1</td>\n",
       "      <td>0</td>\n",
       "      <td>Q1_24</td>\n",
       "    </tr>\n",
       "    <tr>\n",
       "      <th>2</th>\n",
       "      <td>40899</td>\n",
       "      <td>Lovely flat Canal Saint Martin Long stays</td>\n",
       "      <td>177130</td>\n",
       "      <td>Entrepôt</td>\n",
       "      <td>48.874380</td>\n",
       "      <td>2.372150</td>\n",
       "      <td>Entire home/apt</td>\n",
       "      <td>50.00000</td>\n",
       "      <td>20</td>\n",
       "      <td>100</td>\n",
       "      <td>0.92</td>\n",
       "      <td>1</td>\n",
       "      <td>176</td>\n",
       "      <td>Q1_24</td>\n",
       "    </tr>\n",
       "    <tr>\n",
       "      <th>3</th>\n",
       "      <td>3109</td>\n",
       "      <td>zen and calm</td>\n",
       "      <td>3631</td>\n",
       "      <td>Observatoire</td>\n",
       "      <td>48.831910</td>\n",
       "      <td>2.318700</td>\n",
       "      <td>Entire home/apt</td>\n",
       "      <td>250.00000</td>\n",
       "      <td>2</td>\n",
       "      <td>4</td>\n",
       "      <td>0.05</td>\n",
       "      <td>1</td>\n",
       "      <td>355</td>\n",
       "      <td>Q1_24</td>\n",
       "    </tr>\n",
       "    <tr>\n",
       "      <th>4</th>\n",
       "      <td>5396</td>\n",
       "      <td>Your perfect Paris studio on Île Saint-Louis</td>\n",
       "      <td>7903</td>\n",
       "      <td>Hôtel-de-Ville</td>\n",
       "      <td>48.852470</td>\n",
       "      <td>2.358350</td>\n",
       "      <td>Entire home/apt</td>\n",
       "      <td>107.00000</td>\n",
       "      <td>1</td>\n",
       "      <td>393</td>\n",
       "      <td>2.19</td>\n",
       "      <td>2</td>\n",
       "      <td>183</td>\n",
       "      <td>Q1_24</td>\n",
       "    </tr>\n",
       "    <tr>\n",
       "      <th>...</th>\n",
       "      <td>...</td>\n",
       "      <td>...</td>\n",
       "      <td>...</td>\n",
       "      <td>...</td>\n",
       "      <td>...</td>\n",
       "      <td>...</td>\n",
       "      <td>...</td>\n",
       "      <td>...</td>\n",
       "      <td>...</td>\n",
       "      <td>...</td>\n",
       "      <td>...</td>\n",
       "      <td>...</td>\n",
       "      <td>...</td>\n",
       "      <td>...</td>\n",
       "    </tr>\n",
       "    <tr>\n",
       "      <th>288369</th>\n",
       "      <td>2404876</td>\n",
       "      <td>Rental unit in Paris · ★4.77 · 3 bedrooms · 3 ...</td>\n",
       "      <td>2616123</td>\n",
       "      <td>Popincourt</td>\n",
       "      <td>48.863560</td>\n",
       "      <td>2.371900</td>\n",
       "      <td>Entire home/apt</td>\n",
       "      <td>195.00000</td>\n",
       "      <td>3</td>\n",
       "      <td>113</td>\n",
       "      <td>1.01</td>\n",
       "      <td>1</td>\n",
       "      <td>8</td>\n",
       "      <td>Q2_23</td>\n",
       "    </tr>\n",
       "    <tr>\n",
       "      <th>288370</th>\n",
       "      <td>876625296659823798</td>\n",
       "      <td>Rental unit in Paris · ★New · 1 bedroom · 1 be...</td>\n",
       "      <td>148422008</td>\n",
       "      <td>Batignolles-Monceau</td>\n",
       "      <td>48.885302</td>\n",
       "      <td>2.311331</td>\n",
       "      <td>Entire home/apt</td>\n",
       "      <td>62.00000</td>\n",
       "      <td>100</td>\n",
       "      <td>0</td>\n",
       "      <td>NaN</td>\n",
       "      <td>1</td>\n",
       "      <td>203</td>\n",
       "      <td>Q2_23</td>\n",
       "    </tr>\n",
       "    <tr>\n",
       "      <th>288371</th>\n",
       "      <td>574584027642384480</td>\n",
       "      <td>Condo in Paris · ★5.0 · 4 bedrooms · 3 beds · ...</td>\n",
       "      <td>109810931</td>\n",
       "      <td>Vaugirard</td>\n",
       "      <td>48.854590</td>\n",
       "      <td>2.292530</td>\n",
       "      <td>Entire home/apt</td>\n",
       "      <td>400.00000</td>\n",
       "      <td>3</td>\n",
       "      <td>6</td>\n",
       "      <td>0.55</td>\n",
       "      <td>1</td>\n",
       "      <td>34</td>\n",
       "      <td>Q2_23</td>\n",
       "    </tr>\n",
       "    <tr>\n",
       "      <th>288372</th>\n",
       "      <td>50718612</td>\n",
       "      <td>Hostel in Paris · ★4.96 · 1 bedroom · 6 beds ·...</td>\n",
       "      <td>315206797</td>\n",
       "      <td>Popincourt</td>\n",
       "      <td>48.868940</td>\n",
       "      <td>2.377910</td>\n",
       "      <td>Private room</td>\n",
       "      <td>479.00000</td>\n",
       "      <td>1</td>\n",
       "      <td>23</td>\n",
       "      <td>1.02</td>\n",
       "      <td>10</td>\n",
       "      <td>292</td>\n",
       "      <td>Q2_23</td>\n",
       "    </tr>\n",
       "    <tr>\n",
       "      <th>288373</th>\n",
       "      <td>893900838665539285</td>\n",
       "      <td>Rental unit in Paris · ★New · 1 bedroom · 1 be...</td>\n",
       "      <td>233606677</td>\n",
       "      <td>Popincourt</td>\n",
       "      <td>48.863310</td>\n",
       "      <td>2.374860</td>\n",
       "      <td>Entire home/apt</td>\n",
       "      <td>85.00000</td>\n",
       "      <td>1</td>\n",
       "      <td>1</td>\n",
       "      <td>1.00</td>\n",
       "      <td>1</td>\n",
       "      <td>344</td>\n",
       "      <td>Q2_23</td>\n",
       "    </tr>\n",
       "  </tbody>\n",
       "</table>\n",
       "<p>288374 rows × 14 columns</p>\n",
       "</div>"
      ],
      "text/plain": [
       "                        id                                               name  \\\n",
       "0                    39948             COSY INDEPENDENT ROOM IN CENTRAL PARIS   \n",
       "1                    40143       Stylish & Design 1BR flat- Voltaire Bastille   \n",
       "2                    40899          Lovely flat Canal Saint Martin Long stays   \n",
       "3                     3109                                       zen and calm   \n",
       "4                     5396       Your perfect Paris studio on Île Saint-Louis   \n",
       "...                    ...                                                ...   \n",
       "288369             2404876  Rental unit in Paris · ★4.77 · 3 bedrooms · 3 ...   \n",
       "288370  876625296659823798  Rental unit in Paris · ★New · 1 bedroom · 1 be...   \n",
       "288371  574584027642384480  Condo in Paris · ★5.0 · 4 bedrooms · 3 beds · ...   \n",
       "288372            50718612  Hostel in Paris · ★4.96 · 1 bedroom · 6 beds ·...   \n",
       "288373  893900838665539285  Rental unit in Paris · ★New · 1 bedroom · 1 be...   \n",
       "\n",
       "          host_id        neighbourhood   latitude  longitude        room_type  \\\n",
       "0          171483               Bourse  48.870680   2.344600     Private room   \n",
       "1          172322           Popincourt  48.857190   2.378310  Entire home/apt   \n",
       "2          177130             Entrepôt  48.874380   2.372150  Entire home/apt   \n",
       "3            3631         Observatoire  48.831910   2.318700  Entire home/apt   \n",
       "4            7903       Hôtel-de-Ville  48.852470   2.358350  Entire home/apt   \n",
       "...           ...                  ...        ...        ...              ...   \n",
       "288369    2616123           Popincourt  48.863560   2.371900  Entire home/apt   \n",
       "288370  148422008  Batignolles-Monceau  48.885302   2.311331  Entire home/apt   \n",
       "288371  109810931            Vaugirard  48.854590   2.292530  Entire home/apt   \n",
       "288372  315206797           Popincourt  48.868940   2.377910     Private room   \n",
       "288373  233606677           Popincourt  48.863310   2.374860  Entire home/apt   \n",
       "\n",
       "            price  minimum_nights  number_of_reviews  reviews_per_month  \\\n",
       "0       288.66241               5                126               0.99   \n",
       "1       288.66241             365                 11               0.07   \n",
       "2        50.00000              20                100               0.92   \n",
       "3       250.00000               2                  4               0.05   \n",
       "4       107.00000               1                393               2.19   \n",
       "...           ...             ...                ...                ...   \n",
       "288369  195.00000               3                113               1.01   \n",
       "288370   62.00000             100                  0                NaN   \n",
       "288371  400.00000               3                  6               0.55   \n",
       "288372  479.00000               1                 23               1.02   \n",
       "288373   85.00000               1                  1               1.00   \n",
       "\n",
       "        calculated_host_listings_count  availability_365 quarter  \n",
       "0                                    1                 2   Q1_24  \n",
       "1                                    1                 0   Q1_24  \n",
       "2                                    1               176   Q1_24  \n",
       "3                                    1               355   Q1_24  \n",
       "4                                    2               183   Q1_24  \n",
       "...                                ...               ...     ...  \n",
       "288369                               1                 8   Q2_23  \n",
       "288370                               1               203   Q2_23  \n",
       "288371                               1                34   Q2_23  \n",
       "288372                              10               292   Q2_23  \n",
       "288373                               1               344   Q2_23  \n",
       "\n",
       "[288374 rows x 14 columns]"
      ]
     },
     "execution_count": 320,
     "metadata": {},
     "output_type": "execute_result"
    }
   ],
   "source": [
    "#Calling the function for Paris\n",
    "file_list = ['data/paris_listing_Q1_24.csv', 'data/paris_listing_Q4_23.csv', 'data/paris_listing_Q3_23.csv', 'data/paris_listing_Q2_23.csv']\n",
    "merged_data_paris = merge_csv_files(file_list)\n",
    "merged_data_paris"
   ]
  },
  {
   "cell_type": "code",
   "execution_count": 321,
   "metadata": {},
   "outputs": [
    {
     "data": {
      "text/plain": [
       "0"
      ]
     },
     "execution_count": 321,
     "metadata": {},
     "output_type": "execute_result"
    }
   ],
   "source": [
    "#testing if the price value is filled\n",
    "merged_data_paris[\"price\"].isnull().sum()"
   ]
  },
  {
   "cell_type": "code",
   "execution_count": 322,
   "metadata": {},
   "outputs": [
    {
     "data": {
      "text/plain": [
       "array(['Q1_24', 'Q4_23', 'Q3_23', 'Q2_23'], dtype=object)"
      ]
     },
     "execution_count": 322,
     "metadata": {},
     "output_type": "execute_result"
    }
   ],
   "source": [
    "#testing quarter column\n",
    "merged_data_paris[\"quarter\"].unique()"
   ]
  },
  {
   "cell_type": "markdown",
   "metadata": {},
   "source": [
    "### Creating final data frame with all city data"
   ]
  },
  {
   "cell_type": "code",
   "execution_count": 323,
   "metadata": {},
   "outputs": [],
   "source": [
    "def merge_data_frames(df_list):\n",
    "    #create an empty list to store the merged dataframes for each city\n",
    "    dataframes_merged = []\n",
    "    # Loop through the list of data frames (df_list defined below) and append them to the empty list dataframes_merged\n",
    "    for df in df_list:\n",
    "        dataframes_merged.append(df)\n",
    "\n",
    "    #add city column for grouping\n",
    "    #define the city names\n",
    "    city_names = ['Rome', 'Madrid', 'Barcelona', 'Istanbul', 'London', 'Paris']\n",
    "    #loop through the dataframes\n",
    "    for i in range(len(df_list)):\n",
    "        #add city column by matching the index of the city_names list with the index of the dataframes in the df_list\n",
    "        df_list[i]['city'] = city_names[i]\n",
    "\n",
    "    #add currency column\n",
    "    #define the currency values\n",
    "    currency_values = ['EUR', 'EUR', 'EUR', 'TRY', 'GBP', 'EUR']\n",
    "    #loop through the dataframes\n",
    "    for i in range(len(df_list)):\n",
    "        #add currency column by matching the index of the currency_values list with the index of the dataframes in the df_list\n",
    "        df_list[i]['currency'] = currency_values[i]\n",
    "\n",
    "    \n",
    "    #concatenate the dataframes\n",
    "    final_dataframe = pd.concat(dataframes_merged, ignore_index=True)\n",
    "\n",
    "    #move currency column next to price column\n",
    "    col = final_dataframe.pop('currency')\n",
    "    final_dataframe.insert(9, 'currency', col)\n",
    "\n",
    "    return final_dataframe\n"
   ]
  },
  {
   "cell_type": "code",
   "execution_count": 324,
   "metadata": {},
   "outputs": [],
   "source": [
    "#defining the list of dataframes\n",
    "df_list = [merged_data_rome, merged_data_madrid, merged_data_barcelona, merged_data_istanbul, merged_data_london, merged_data_paris]\n",
    "final_dataframe = merge_data_frames(df_list)"
   ]
  },
  {
   "cell_type": "code",
   "execution_count": 325,
   "metadata": {},
   "outputs": [
    {
     "data": {
      "text/html": [
       "<div>\n",
       "<style scoped>\n",
       "    .dataframe tbody tr th:only-of-type {\n",
       "        vertical-align: middle;\n",
       "    }\n",
       "\n",
       "    .dataframe tbody tr th {\n",
       "        vertical-align: top;\n",
       "    }\n",
       "\n",
       "    .dataframe thead th {\n",
       "        text-align: right;\n",
       "    }\n",
       "</style>\n",
       "<table border=\"1\" class=\"dataframe\">\n",
       "  <thead>\n",
       "    <tr style=\"text-align: right;\">\n",
       "      <th></th>\n",
       "      <th>id</th>\n",
       "      <th>name</th>\n",
       "      <th>host_id</th>\n",
       "      <th>neighbourhood</th>\n",
       "      <th>latitude</th>\n",
       "      <th>longitude</th>\n",
       "      <th>room_type</th>\n",
       "      <th>price</th>\n",
       "      <th>minimum_nights</th>\n",
       "      <th>currency</th>\n",
       "      <th>number_of_reviews</th>\n",
       "      <th>reviews_per_month</th>\n",
       "      <th>calculated_host_listings_count</th>\n",
       "      <th>availability_365</th>\n",
       "      <th>quarter</th>\n",
       "      <th>city</th>\n",
       "    </tr>\n",
       "  </thead>\n",
       "  <tbody>\n",
       "    <tr>\n",
       "      <th>0</th>\n",
       "      <td>2737</td>\n",
       "      <td>Elif's room in cozy, clean flat.</td>\n",
       "      <td>3047</td>\n",
       "      <td>VIII Appia Antica</td>\n",
       "      <td>41.871360</td>\n",
       "      <td>12.482150</td>\n",
       "      <td>Private room</td>\n",
       "      <td>56.0</td>\n",
       "      <td>7</td>\n",
       "      <td>EUR</td>\n",
       "      <td>5</td>\n",
       "      <td>0.04</td>\n",
       "      <td>6</td>\n",
       "      <td>365</td>\n",
       "      <td>Q1_24</td>\n",
       "      <td>Rome</td>\n",
       "    </tr>\n",
       "    <tr>\n",
       "      <th>1</th>\n",
       "      <td>139330</td>\n",
       "      <td>abbraccia Morfeo (2b)</td>\n",
       "      <td>679555</td>\n",
       "      <td>V Prenestino/Centocelle</td>\n",
       "      <td>41.881420</td>\n",
       "      <td>12.544220</td>\n",
       "      <td>Private room</td>\n",
       "      <td>94.0</td>\n",
       "      <td>2</td>\n",
       "      <td>EUR</td>\n",
       "      <td>26</td>\n",
       "      <td>0.29</td>\n",
       "      <td>4</td>\n",
       "      <td>62</td>\n",
       "      <td>Q1_24</td>\n",
       "      <td>Rome</td>\n",
       "    </tr>\n",
       "    <tr>\n",
       "      <th>2</th>\n",
       "      <td>3079</td>\n",
       "      <td>Cozy apartment  (2-4)with Colisseum  view</td>\n",
       "      <td>3504</td>\n",
       "      <td>I Centro Storico</td>\n",
       "      <td>41.895000</td>\n",
       "      <td>12.491170</td>\n",
       "      <td>Entire home/apt</td>\n",
       "      <td>120.0</td>\n",
       "      <td>90</td>\n",
       "      <td>EUR</td>\n",
       "      <td>21</td>\n",
       "      <td>0.13</td>\n",
       "      <td>6</td>\n",
       "      <td>253</td>\n",
       "      <td>Q1_24</td>\n",
       "      <td>Rome</td>\n",
       "    </tr>\n",
       "    <tr>\n",
       "      <th>3</th>\n",
       "      <td>140801</td>\n",
       "      <td>Rome Studio Rental, Colosseum</td>\n",
       "      <td>685600</td>\n",
       "      <td>I Centro Storico</td>\n",
       "      <td>41.887390</td>\n",
       "      <td>12.496900</td>\n",
       "      <td>Entire home/apt</td>\n",
       "      <td>81.0</td>\n",
       "      <td>3</td>\n",
       "      <td>EUR</td>\n",
       "      <td>192</td>\n",
       "      <td>1.26</td>\n",
       "      <td>1</td>\n",
       "      <td>222</td>\n",
       "      <td>Q1_24</td>\n",
       "      <td>Rome</td>\n",
       "    </tr>\n",
       "    <tr>\n",
       "      <th>4</th>\n",
       "      <td>11834</td>\n",
       "      <td>Rome \"Charming Boschetto Studio\"</td>\n",
       "      <td>44552</td>\n",
       "      <td>I Centro Storico</td>\n",
       "      <td>41.895447</td>\n",
       "      <td>12.491181</td>\n",
       "      <td>Entire home/apt</td>\n",
       "      <td>110.0</td>\n",
       "      <td>2</td>\n",
       "      <td>EUR</td>\n",
       "      <td>224</td>\n",
       "      <td>1.43</td>\n",
       "      <td>1</td>\n",
       "      <td>181</td>\n",
       "      <td>Q1_24</td>\n",
       "      <td>Rome</td>\n",
       "    </tr>\n",
       "    <tr>\n",
       "      <th>...</th>\n",
       "      <td>...</td>\n",
       "      <td>...</td>\n",
       "      <td>...</td>\n",
       "      <td>...</td>\n",
       "      <td>...</td>\n",
       "      <td>...</td>\n",
       "      <td>...</td>\n",
       "      <td>...</td>\n",
       "      <td>...</td>\n",
       "      <td>...</td>\n",
       "      <td>...</td>\n",
       "      <td>...</td>\n",
       "      <td>...</td>\n",
       "      <td>...</td>\n",
       "      <td>...</td>\n",
       "      <td>...</td>\n",
       "    </tr>\n",
       "    <tr>\n",
       "      <th>1092243</th>\n",
       "      <td>2404876</td>\n",
       "      <td>Rental unit in Paris · ★4.77 · 3 bedrooms · 3 ...</td>\n",
       "      <td>2616123</td>\n",
       "      <td>Popincourt</td>\n",
       "      <td>48.863560</td>\n",
       "      <td>2.371900</td>\n",
       "      <td>Entire home/apt</td>\n",
       "      <td>195.0</td>\n",
       "      <td>3</td>\n",
       "      <td>EUR</td>\n",
       "      <td>113</td>\n",
       "      <td>1.01</td>\n",
       "      <td>1</td>\n",
       "      <td>8</td>\n",
       "      <td>Q2_23</td>\n",
       "      <td>Paris</td>\n",
       "    </tr>\n",
       "    <tr>\n",
       "      <th>1092244</th>\n",
       "      <td>876625296659823798</td>\n",
       "      <td>Rental unit in Paris · ★New · 1 bedroom · 1 be...</td>\n",
       "      <td>148422008</td>\n",
       "      <td>Batignolles-Monceau</td>\n",
       "      <td>48.885302</td>\n",
       "      <td>2.311331</td>\n",
       "      <td>Entire home/apt</td>\n",
       "      <td>62.0</td>\n",
       "      <td>100</td>\n",
       "      <td>EUR</td>\n",
       "      <td>0</td>\n",
       "      <td>NaN</td>\n",
       "      <td>1</td>\n",
       "      <td>203</td>\n",
       "      <td>Q2_23</td>\n",
       "      <td>Paris</td>\n",
       "    </tr>\n",
       "    <tr>\n",
       "      <th>1092245</th>\n",
       "      <td>574584027642384480</td>\n",
       "      <td>Condo in Paris · ★5.0 · 4 bedrooms · 3 beds · ...</td>\n",
       "      <td>109810931</td>\n",
       "      <td>Vaugirard</td>\n",
       "      <td>48.854590</td>\n",
       "      <td>2.292530</td>\n",
       "      <td>Entire home/apt</td>\n",
       "      <td>400.0</td>\n",
       "      <td>3</td>\n",
       "      <td>EUR</td>\n",
       "      <td>6</td>\n",
       "      <td>0.55</td>\n",
       "      <td>1</td>\n",
       "      <td>34</td>\n",
       "      <td>Q2_23</td>\n",
       "      <td>Paris</td>\n",
       "    </tr>\n",
       "    <tr>\n",
       "      <th>1092246</th>\n",
       "      <td>50718612</td>\n",
       "      <td>Hostel in Paris · ★4.96 · 1 bedroom · 6 beds ·...</td>\n",
       "      <td>315206797</td>\n",
       "      <td>Popincourt</td>\n",
       "      <td>48.868940</td>\n",
       "      <td>2.377910</td>\n",
       "      <td>Private room</td>\n",
       "      <td>479.0</td>\n",
       "      <td>1</td>\n",
       "      <td>EUR</td>\n",
       "      <td>23</td>\n",
       "      <td>1.02</td>\n",
       "      <td>10</td>\n",
       "      <td>292</td>\n",
       "      <td>Q2_23</td>\n",
       "      <td>Paris</td>\n",
       "    </tr>\n",
       "    <tr>\n",
       "      <th>1092247</th>\n",
       "      <td>893900838665539285</td>\n",
       "      <td>Rental unit in Paris · ★New · 1 bedroom · 1 be...</td>\n",
       "      <td>233606677</td>\n",
       "      <td>Popincourt</td>\n",
       "      <td>48.863310</td>\n",
       "      <td>2.374860</td>\n",
       "      <td>Entire home/apt</td>\n",
       "      <td>85.0</td>\n",
       "      <td>1</td>\n",
       "      <td>EUR</td>\n",
       "      <td>1</td>\n",
       "      <td>1.00</td>\n",
       "      <td>1</td>\n",
       "      <td>344</td>\n",
       "      <td>Q2_23</td>\n",
       "      <td>Paris</td>\n",
       "    </tr>\n",
       "  </tbody>\n",
       "</table>\n",
       "<p>1092248 rows × 16 columns</p>\n",
       "</div>"
      ],
      "text/plain": [
       "                         id  \\\n",
       "0                      2737   \n",
       "1                    139330   \n",
       "2                      3079   \n",
       "3                    140801   \n",
       "4                     11834   \n",
       "...                     ...   \n",
       "1092243             2404876   \n",
       "1092244  876625296659823798   \n",
       "1092245  574584027642384480   \n",
       "1092246            50718612   \n",
       "1092247  893900838665539285   \n",
       "\n",
       "                                                      name    host_id  \\\n",
       "0                         Elif's room in cozy, clean flat.       3047   \n",
       "1                                    abbraccia Morfeo (2b)     679555   \n",
       "2                Cozy apartment  (2-4)with Colisseum  view       3504   \n",
       "3                            Rome Studio Rental, Colosseum     685600   \n",
       "4                         Rome \"Charming Boschetto Studio\"      44552   \n",
       "...                                                    ...        ...   \n",
       "1092243  Rental unit in Paris · ★4.77 · 3 bedrooms · 3 ...    2616123   \n",
       "1092244  Rental unit in Paris · ★New · 1 bedroom · 1 be...  148422008   \n",
       "1092245  Condo in Paris · ★5.0 · 4 bedrooms · 3 beds · ...  109810931   \n",
       "1092246  Hostel in Paris · ★4.96 · 1 bedroom · 6 beds ·...  315206797   \n",
       "1092247  Rental unit in Paris · ★New · 1 bedroom · 1 be...  233606677   \n",
       "\n",
       "                   neighbourhood   latitude  longitude        room_type  \\\n",
       "0              VIII Appia Antica  41.871360  12.482150     Private room   \n",
       "1        V Prenestino/Centocelle  41.881420  12.544220     Private room   \n",
       "2               I Centro Storico  41.895000  12.491170  Entire home/apt   \n",
       "3               I Centro Storico  41.887390  12.496900  Entire home/apt   \n",
       "4               I Centro Storico  41.895447  12.491181  Entire home/apt   \n",
       "...                          ...        ...        ...              ...   \n",
       "1092243               Popincourt  48.863560   2.371900  Entire home/apt   \n",
       "1092244      Batignolles-Monceau  48.885302   2.311331  Entire home/apt   \n",
       "1092245                Vaugirard  48.854590   2.292530  Entire home/apt   \n",
       "1092246               Popincourt  48.868940   2.377910     Private room   \n",
       "1092247               Popincourt  48.863310   2.374860  Entire home/apt   \n",
       "\n",
       "         price  minimum_nights currency  number_of_reviews  reviews_per_month  \\\n",
       "0         56.0               7      EUR                  5               0.04   \n",
       "1         94.0               2      EUR                 26               0.29   \n",
       "2        120.0              90      EUR                 21               0.13   \n",
       "3         81.0               3      EUR                192               1.26   \n",
       "4        110.0               2      EUR                224               1.43   \n",
       "...        ...             ...      ...                ...                ...   \n",
       "1092243  195.0               3      EUR                113               1.01   \n",
       "1092244   62.0             100      EUR                  0                NaN   \n",
       "1092245  400.0               3      EUR                  6               0.55   \n",
       "1092246  479.0               1      EUR                 23               1.02   \n",
       "1092247   85.0               1      EUR                  1               1.00   \n",
       "\n",
       "         calculated_host_listings_count  availability_365 quarter   city  \n",
       "0                                     6               365   Q1_24   Rome  \n",
       "1                                     4                62   Q1_24   Rome  \n",
       "2                                     6               253   Q1_24   Rome  \n",
       "3                                     1               222   Q1_24   Rome  \n",
       "4                                     1               181   Q1_24   Rome  \n",
       "...                                 ...               ...     ...    ...  \n",
       "1092243                               1                 8   Q2_23  Paris  \n",
       "1092244                               1               203   Q2_23  Paris  \n",
       "1092245                               1                34   Q2_23  Paris  \n",
       "1092246                              10               292   Q2_23  Paris  \n",
       "1092247                               1               344   Q2_23  Paris  \n",
       "\n",
       "[1092248 rows x 16 columns]"
      ]
     },
     "execution_count": 325,
     "metadata": {},
     "output_type": "execute_result"
    }
   ],
   "source": [
    "final_dataframe"
   ]
  },
  {
   "cell_type": "code",
   "execution_count": 326,
   "metadata": {},
   "outputs": [
    {
     "data": {
      "text/plain": [
       "array(['Rome', 'Madrid', 'Barcelona', 'Istanbul', 'London', 'Paris'],\n",
       "      dtype=object)"
      ]
     },
     "execution_count": 326,
     "metadata": {},
     "output_type": "execute_result"
    }
   ],
   "source": [
    "final_dataframe[\"city\"].unique()"
   ]
  },
  {
   "cell_type": "markdown",
   "metadata": {},
   "source": [
    "# Price Analysis"
   ]
  },
  {
   "cell_type": "markdown",
   "metadata": {},
   "source": [
    "#### Converting Currency to EUR"
   ]
  },
  {
   "cell_type": "markdown",
   "metadata": {},
   "source": [
    "Converting all currencies to EUR to be able to perform statistical analysis. Using a free currency exchange API to convert with live rates TRY and GBP currencies to EUR."
   ]
  },
  {
   "cell_type": "code",
   "execution_count": 345,
   "metadata": {},
   "outputs": [],
   "source": [
    "# Load environment variables from .env file\n",
    "load_dotenv()\n",
    "\n",
    "# Get the API key from the environment variable\n",
    "API_KEY = os.getenv('EXCHANGERATE_API_KEY')\n",
    "BASE_URL = f'https://v6.exchangerate-api.com/v6/{API_KEY}/latest/EUR'\n",
    "\n",
    "# Function to get exchange rates\n",
    "def get_exchange_rates():\n",
    "    response = requests.get(BASE_URL)\n",
    "    data = response.json()\n",
    "    if data['result'] == 'error':\n",
    "        raise Exception(data['error-type'])\n",
    "    return data['conversion_rates']\n",
    "\n",
    "try:\n",
    "    # Fetch exchange rates\n",
    "    exchange_rates = get_exchange_rates()\n",
    "\n",
    "\n",
    "    dataframe_currency = pd.DataFrame(final_dataframe)\n",
    "\n",
    "    # Convert prices to EUR\n",
    "    final_dataframe['price_in_eur'] = final_dataframe.apply(lambda row: row['price'] / exchange_rates[row['currency']], axis=1)\n",
    "\n",
    "except Exception as e:\n",
    "    print(\"Error:\", e)\n",
    "\n"
   ]
  },
  {
   "cell_type": "code",
   "execution_count": 346,
   "metadata": {},
   "outputs": [],
   "source": [
    "# Drop the price and currency columns\n",
    "dataframe_currency = dataframe_currency.drop(['price', 'currency'], axis=1)\n",
    "dataframe_currency = dataframe_currency[dataframe_currency['price_in_eur'] != 0]"
   ]
  },
  {
   "cell_type": "code",
   "execution_count": 347,
   "metadata": {},
   "outputs": [],
   "source": [
    "# Move the price_in_eur column \n",
    "col = dataframe_currency.pop('price_in_eur')\n",
    "dataframe_currency.insert(9, 'price_in_eur', col)"
   ]
  },
  {
   "cell_type": "code",
   "execution_count": 348,
   "metadata": {},
   "outputs": [],
   "source": [
    "#Saving city price stats in a variable \n",
    "\n",
    "istanbul_city = dataframe_currency[dataframe_currency['city'] == 'Istanbul']\n",
    "london_city = dataframe_currency[dataframe_currency['city'] == 'London']\n",
    "madrid_city = dataframe_currency[dataframe_currency['city'] == 'Madrid']\n",
    "barcelona_city = dataframe_currency[dataframe_currency['city'] == 'Barcelona']\n",
    "paris_city = dataframe_currency[dataframe_currency['city'] == 'Paris']\n",
    "rome_city = dataframe_currency[dataframe_currency['city'] == 'Rome']"
   ]
  },
  {
   "cell_type": "markdown",
   "metadata": {},
   "source": [
    "#### Create a function to plot the price distribution for each city"
   ]
  },
  {
   "cell_type": "code",
   "execution_count": 403,
   "metadata": {},
   "outputs": [],
   "source": [
    "#creating data visualisation function\n",
    "def create_visualisation(dataframe, city_name):\n",
    "\n",
    "#Visualizing the price distribution with outliers\n",
    "    plt.figure(figsize=(12, 8))\n",
    "    sns.boxplot(x='quarter', y='price_in_eur', data=dataframe)\n",
    "    plt.title(f'Price distribution per quarter (with outliers) {city_name}')\n",
    "    plt.show()\n",
    "    \n",
    "\n",
    "#Calculate outliers\n",
    "# Calculate Q1 (25th percentile) and Q3 (75th percentile)\n",
    "    Q1 = dataframe['price_in_eur'].quantile(0.25)\n",
    "    Q3 = dataframe['price_in_eur'].quantile(0.75)\n",
    "    IQR = Q3 - Q1\n",
    "\n",
    "# Define outlier bounds\n",
    "    lower_bound = max(Q1 - 1.5 * IQR, 5)\n",
    "    upper_bound = Q3 + 1.5 * IQR\n",
    "\n",
    "# Remove outliers\n",
    "    dataframe_no_outliers = dataframe[(dataframe['price_in_eur'] >= lower_bound) & (dataframe['price_in_eur'] <= upper_bound)]\n",
    "\n",
    "# Create a histogram with no outliers\n",
    "    fig = px.histogram(\n",
    "        dataframe_no_outliers,\n",
    "        x='price_in_eur',\n",
    "        nbins=10,\n",
    "        title=f'Histogram of Prices in {city_name}(No Outliers)',\n",
    "        labels={'price_in_eur': 'Price in EUR'},\n",
    "        template='plotly_white'\n",
    "    )   \n",
    "\n",
    "# Customize the appearance\n",
    "    fig.update_traces(marker=dict(color='skyblue', line=dict(color='black', width=1.5)))\n",
    "\n",
    "# Add KDE (Kernel Density Estimate)\n",
    "    kde_x = np.linspace(lower_bound, upper_bound, 100)\n",
    "    kde_y = stats.gaussian_kde(dataframe_no_outliers['price_in_eur'])(kde_x) * len(dataframe_no_outliers['price_in_eur'])\n",
    "    fig.add_trace(go.Scatter(x=kde_x, y=kde_y, mode='lines', name='KDE', line=dict(color='red')))\n",
    "\n",
    "# Customize layout\n",
    "    fig.update_layout(\n",
    "        xaxis_title='Price in EUR',\n",
    "        yaxis_title='Frequency',\n",
    "        title_font_size=16,\n",
    "        xaxis_title_font_size=14,\n",
    "        yaxis_title_font_size=14,\n",
    "        xaxis=dict(tickfont=dict(size=12)),\n",
    "        yaxis=dict(tickfont=dict(size=12)),\n",
    "        showlegend=True\n",
    "    )\n",
    "\n",
    "# Show the plot\n",
    "    fig.show()\n",
    "\n",
    "\n",
    "#Calculate the average price per quarter\n",
    "    avg_price_per_quarter = dataframe_no_outliers.groupby('quarter')['price_in_eur'].mean().reset_index()\n",
    "\n",
    "# Create a bar chart using Plotly\n",
    "    fig = px.bar(avg_price_per_quarter, x='quarter', y='price_in_eur', title=f'Average Price per Quarter in {city_name}(No Outliers)', labels={'price_in_eur': 'Average Price in EUR'})\n",
    "\n",
    "# Customize the layout\n",
    "    fig.update_layout(\n",
    "    yaxis_title=\"Average Price in EUR\",\n",
    "    xaxis_title=\"Quarter\",\n",
    "    title_font_size=16,\n",
    "    yaxis_title_font_size=14,\n",
    "    xaxis_title_font_size=14\n",
    "    )\n",
    "\n",
    "# Show the plot\n",
    "    fig.show()"
   ]
  },
  {
   "cell_type": "markdown",
   "metadata": {},
   "source": [
    "#### Create a function to calculate all the stats for each city"
   ]
  },
  {
   "cell_type": "code",
   "execution_count": 427,
   "metadata": {},
   "outputs": [],
   "source": [
    "import plotly.graph_objects as go\n",
    "\n",
    "def calculate_stats(df, lower_bound_threshold=5):\n",
    "    stats = []\n",
    "    cities = df['city'].unique()\n",
    "    \n",
    "    for city in cities:\n",
    "        city_df = df[df['city'] == city]\n",
    "        \n",
    "        # Calculate Q1, Q3, and IQR\n",
    "        Q1 = city_df['price_in_eur'].quantile(0.25)\n",
    "        Q3 = city_df['price_in_eur'].quantile(0.75)\n",
    "        IQR = Q3 - Q1\n",
    "        \n",
    "        # Define outlier bounds\n",
    "        lower_bound = max(Q1 - 1.5 * IQR, lower_bound_threshold)\n",
    "        upper_bound = Q3 + 1.5 * IQR\n",
    "        \n",
    "        # Remove outliers\n",
    "        city_no_outliers = city_df[(city_df['price_in_eur'] >= lower_bound) & (city_df['price_in_eur'] <= upper_bound)]\n",
    "        \n",
    "        # Calculate min, max, and mean prices\n",
    "        min_price = round(city_no_outliers['price_in_eur'].min(), 2)\n",
    "        max_price = round(city_no_outliers['price_in_eur'].max(), 2)\n",
    "        mean_price = round(city_no_outliers['price_in_eur'].mean(), 2)\n",
    "    \n",
    "        \n",
    "        stats.append({'city': city, 'min_price': min_price, 'max_price': max_price, 'mean_price': mean_price})\n",
    "    \n",
    "    return pd.DataFrame(stats)\n",
    "\n"
   ]
  },
  {
   "cell_type": "code",
   "execution_count": 401,
   "metadata": {},
   "outputs": [
    {
     "data": {
      "text/html": [
       "<div>\n",
       "<style scoped>\n",
       "    .dataframe tbody tr th:only-of-type {\n",
       "        vertical-align: middle;\n",
       "    }\n",
       "\n",
       "    .dataframe tbody tr th {\n",
       "        vertical-align: top;\n",
       "    }\n",
       "\n",
       "    .dataframe thead th {\n",
       "        text-align: right;\n",
       "    }\n",
       "</style>\n",
       "<table border=\"1\" class=\"dataframe\">\n",
       "  <thead>\n",
       "    <tr style=\"text-align: right;\">\n",
       "      <th></th>\n",
       "      <th>city</th>\n",
       "      <th>min_price</th>\n",
       "      <th>max_price</th>\n",
       "      <th>mean_price</th>\n",
       "    </tr>\n",
       "  </thead>\n",
       "  <tbody>\n",
       "    <tr>\n",
       "      <th>0</th>\n",
       "      <td>Rome</td>\n",
       "      <td>8.00</td>\n",
       "      <td>339.00</td>\n",
       "      <td>133.14</td>\n",
       "    </tr>\n",
       "    <tr>\n",
       "      <th>1</th>\n",
       "      <td>Madrid</td>\n",
       "      <td>8.00</td>\n",
       "      <td>255.00</td>\n",
       "      <td>97.59</td>\n",
       "    </tr>\n",
       "    <tr>\n",
       "      <th>2</th>\n",
       "      <td>Barcelona</td>\n",
       "      <td>8.00</td>\n",
       "      <td>330.00</td>\n",
       "      <td>114.73</td>\n",
       "    </tr>\n",
       "    <tr>\n",
       "      <th>3</th>\n",
       "      <td>Istanbul</td>\n",
       "      <td>5.06</td>\n",
       "      <td>142.42</td>\n",
       "      <td>48.19</td>\n",
       "    </tr>\n",
       "    <tr>\n",
       "      <th>4</th>\n",
       "      <td>London</td>\n",
       "      <td>8.28</td>\n",
       "      <td>413.96</td>\n",
       "      <td>153.45</td>\n",
       "    </tr>\n",
       "    <tr>\n",
       "      <th>5</th>\n",
       "      <td>Paris</td>\n",
       "      <td>8.00</td>\n",
       "      <td>540.00</td>\n",
       "      <td>169.66</td>\n",
       "    </tr>\n",
       "  </tbody>\n",
       "</table>\n",
       "</div>"
      ],
      "text/plain": [
       "        city  min_price  max_price  mean_price\n",
       "0       Rome       8.00     339.00      133.14\n",
       "1     Madrid       8.00     255.00       97.59\n",
       "2  Barcelona       8.00     330.00      114.73\n",
       "3   Istanbul       5.06     142.42       48.19\n",
       "4     London       8.28     413.96      153.45\n",
       "5      Paris       8.00     540.00      169.66"
      ]
     },
     "execution_count": 401,
     "metadata": {},
     "output_type": "execute_result"
    }
   ],
   "source": [
    "# Calculate the statistics with currency dataframe\n",
    "calculate_stats(dataframe_currency)"
   ]
  },
  {
   "cell_type": "markdown",
   "metadata": {},
   "source": [
    "##### Visualizing/comparing min/max/mean prices for all cities"
   ]
  },
  {
   "cell_type": "code",
   "execution_count": 402,
   "metadata": {},
   "outputs": [
    {
     "data": {
      "application/vnd.plotly.v1+json": {
       "config": {
        "plotlyServerURL": "https://plot.ly"
       },
       "data": [
        {
         "marker": {
          "color": "blue"
         },
         "name": "Min Price",
         "text": [
          8,
          8,
          8,
          5.06,
          8.28,
          8
         ],
         "textposition": "outside",
         "type": "bar",
         "x": [
          "Rome",
          "Madrid",
          "Barcelona",
          "Istanbul",
          "London",
          "Paris"
         ],
         "y": [
          8,
          8,
          8,
          5.06,
          8.28,
          8
         ]
        },
        {
         "marker": {
          "color": "orange"
         },
         "name": "Max Price",
         "text": [
          339,
          255,
          330,
          142.42,
          413.96,
          540
         ],
         "textposition": "outside",
         "type": "bar",
         "x": [
          "Rome",
          "Madrid",
          "Barcelona",
          "Istanbul",
          "London",
          "Paris"
         ],
         "y": [
          339,
          255,
          330,
          142.42,
          413.96,
          540
         ]
        },
        {
         "marker": {
          "color": "green"
         },
         "name": "Mean Price",
         "text": [
          133.14,
          97.59,
          114.73,
          48.19,
          153.45,
          169.66
         ],
         "textposition": "outside",
         "type": "bar",
         "x": [
          "Rome",
          "Madrid",
          "Barcelona",
          "Istanbul",
          "London",
          "Paris"
         ],
         "y": [
          133.14,
          97.59,
          114.73,
          48.19,
          153.45,
          169.66
         ]
        }
       ],
       "layout": {
        "barmode": "group",
        "height": 600,
        "template": {
         "data": {
          "bar": [
           {
            "error_x": {
             "color": "#2a3f5f"
            },
            "error_y": {
             "color": "#2a3f5f"
            },
            "marker": {
             "line": {
              "color": "#E5ECF6",
              "width": 0.5
             },
             "pattern": {
              "fillmode": "overlay",
              "size": 10,
              "solidity": 0.2
             }
            },
            "type": "bar"
           }
          ],
          "barpolar": [
           {
            "marker": {
             "line": {
              "color": "#E5ECF6",
              "width": 0.5
             },
             "pattern": {
              "fillmode": "overlay",
              "size": 10,
              "solidity": 0.2
             }
            },
            "type": "barpolar"
           }
          ],
          "carpet": [
           {
            "aaxis": {
             "endlinecolor": "#2a3f5f",
             "gridcolor": "white",
             "linecolor": "white",
             "minorgridcolor": "white",
             "startlinecolor": "#2a3f5f"
            },
            "baxis": {
             "endlinecolor": "#2a3f5f",
             "gridcolor": "white",
             "linecolor": "white",
             "minorgridcolor": "white",
             "startlinecolor": "#2a3f5f"
            },
            "type": "carpet"
           }
          ],
          "choropleth": [
           {
            "colorbar": {
             "outlinewidth": 0,
             "ticks": ""
            },
            "type": "choropleth"
           }
          ],
          "contour": [
           {
            "colorbar": {
             "outlinewidth": 0,
             "ticks": ""
            },
            "colorscale": [
             [
              0,
              "#0d0887"
             ],
             [
              0.1111111111111111,
              "#46039f"
             ],
             [
              0.2222222222222222,
              "#7201a8"
             ],
             [
              0.3333333333333333,
              "#9c179e"
             ],
             [
              0.4444444444444444,
              "#bd3786"
             ],
             [
              0.5555555555555556,
              "#d8576b"
             ],
             [
              0.6666666666666666,
              "#ed7953"
             ],
             [
              0.7777777777777778,
              "#fb9f3a"
             ],
             [
              0.8888888888888888,
              "#fdca26"
             ],
             [
              1,
              "#f0f921"
             ]
            ],
            "type": "contour"
           }
          ],
          "contourcarpet": [
           {
            "colorbar": {
             "outlinewidth": 0,
             "ticks": ""
            },
            "type": "contourcarpet"
           }
          ],
          "heatmap": [
           {
            "colorbar": {
             "outlinewidth": 0,
             "ticks": ""
            },
            "colorscale": [
             [
              0,
              "#0d0887"
             ],
             [
              0.1111111111111111,
              "#46039f"
             ],
             [
              0.2222222222222222,
              "#7201a8"
             ],
             [
              0.3333333333333333,
              "#9c179e"
             ],
             [
              0.4444444444444444,
              "#bd3786"
             ],
             [
              0.5555555555555556,
              "#d8576b"
             ],
             [
              0.6666666666666666,
              "#ed7953"
             ],
             [
              0.7777777777777778,
              "#fb9f3a"
             ],
             [
              0.8888888888888888,
              "#fdca26"
             ],
             [
              1,
              "#f0f921"
             ]
            ],
            "type": "heatmap"
           }
          ],
          "heatmapgl": [
           {
            "colorbar": {
             "outlinewidth": 0,
             "ticks": ""
            },
            "colorscale": [
             [
              0,
              "#0d0887"
             ],
             [
              0.1111111111111111,
              "#46039f"
             ],
             [
              0.2222222222222222,
              "#7201a8"
             ],
             [
              0.3333333333333333,
              "#9c179e"
             ],
             [
              0.4444444444444444,
              "#bd3786"
             ],
             [
              0.5555555555555556,
              "#d8576b"
             ],
             [
              0.6666666666666666,
              "#ed7953"
             ],
             [
              0.7777777777777778,
              "#fb9f3a"
             ],
             [
              0.8888888888888888,
              "#fdca26"
             ],
             [
              1,
              "#f0f921"
             ]
            ],
            "type": "heatmapgl"
           }
          ],
          "histogram": [
           {
            "marker": {
             "pattern": {
              "fillmode": "overlay",
              "size": 10,
              "solidity": 0.2
             }
            },
            "type": "histogram"
           }
          ],
          "histogram2d": [
           {
            "colorbar": {
             "outlinewidth": 0,
             "ticks": ""
            },
            "colorscale": [
             [
              0,
              "#0d0887"
             ],
             [
              0.1111111111111111,
              "#46039f"
             ],
             [
              0.2222222222222222,
              "#7201a8"
             ],
             [
              0.3333333333333333,
              "#9c179e"
             ],
             [
              0.4444444444444444,
              "#bd3786"
             ],
             [
              0.5555555555555556,
              "#d8576b"
             ],
             [
              0.6666666666666666,
              "#ed7953"
             ],
             [
              0.7777777777777778,
              "#fb9f3a"
             ],
             [
              0.8888888888888888,
              "#fdca26"
             ],
             [
              1,
              "#f0f921"
             ]
            ],
            "type": "histogram2d"
           }
          ],
          "histogram2dcontour": [
           {
            "colorbar": {
             "outlinewidth": 0,
             "ticks": ""
            },
            "colorscale": [
             [
              0,
              "#0d0887"
             ],
             [
              0.1111111111111111,
              "#46039f"
             ],
             [
              0.2222222222222222,
              "#7201a8"
             ],
             [
              0.3333333333333333,
              "#9c179e"
             ],
             [
              0.4444444444444444,
              "#bd3786"
             ],
             [
              0.5555555555555556,
              "#d8576b"
             ],
             [
              0.6666666666666666,
              "#ed7953"
             ],
             [
              0.7777777777777778,
              "#fb9f3a"
             ],
             [
              0.8888888888888888,
              "#fdca26"
             ],
             [
              1,
              "#f0f921"
             ]
            ],
            "type": "histogram2dcontour"
           }
          ],
          "mesh3d": [
           {
            "colorbar": {
             "outlinewidth": 0,
             "ticks": ""
            },
            "type": "mesh3d"
           }
          ],
          "parcoords": [
           {
            "line": {
             "colorbar": {
              "outlinewidth": 0,
              "ticks": ""
             }
            },
            "type": "parcoords"
           }
          ],
          "pie": [
           {
            "automargin": true,
            "type": "pie"
           }
          ],
          "scatter": [
           {
            "fillpattern": {
             "fillmode": "overlay",
             "size": 10,
             "solidity": 0.2
            },
            "type": "scatter"
           }
          ],
          "scatter3d": [
           {
            "line": {
             "colorbar": {
              "outlinewidth": 0,
              "ticks": ""
             }
            },
            "marker": {
             "colorbar": {
              "outlinewidth": 0,
              "ticks": ""
             }
            },
            "type": "scatter3d"
           }
          ],
          "scattercarpet": [
           {
            "marker": {
             "colorbar": {
              "outlinewidth": 0,
              "ticks": ""
             }
            },
            "type": "scattercarpet"
           }
          ],
          "scattergeo": [
           {
            "marker": {
             "colorbar": {
              "outlinewidth": 0,
              "ticks": ""
             }
            },
            "type": "scattergeo"
           }
          ],
          "scattergl": [
           {
            "marker": {
             "colorbar": {
              "outlinewidth": 0,
              "ticks": ""
             }
            },
            "type": "scattergl"
           }
          ],
          "scattermapbox": [
           {
            "marker": {
             "colorbar": {
              "outlinewidth": 0,
              "ticks": ""
             }
            },
            "type": "scattermapbox"
           }
          ],
          "scatterpolar": [
           {
            "marker": {
             "colorbar": {
              "outlinewidth": 0,
              "ticks": ""
             }
            },
            "type": "scatterpolar"
           }
          ],
          "scatterpolargl": [
           {
            "marker": {
             "colorbar": {
              "outlinewidth": 0,
              "ticks": ""
             }
            },
            "type": "scatterpolargl"
           }
          ],
          "scatterternary": [
           {
            "marker": {
             "colorbar": {
              "outlinewidth": 0,
              "ticks": ""
             }
            },
            "type": "scatterternary"
           }
          ],
          "surface": [
           {
            "colorbar": {
             "outlinewidth": 0,
             "ticks": ""
            },
            "colorscale": [
             [
              0,
              "#0d0887"
             ],
             [
              0.1111111111111111,
              "#46039f"
             ],
             [
              0.2222222222222222,
              "#7201a8"
             ],
             [
              0.3333333333333333,
              "#9c179e"
             ],
             [
              0.4444444444444444,
              "#bd3786"
             ],
             [
              0.5555555555555556,
              "#d8576b"
             ],
             [
              0.6666666666666666,
              "#ed7953"
             ],
             [
              0.7777777777777778,
              "#fb9f3a"
             ],
             [
              0.8888888888888888,
              "#fdca26"
             ],
             [
              1,
              "#f0f921"
             ]
            ],
            "type": "surface"
           }
          ],
          "table": [
           {
            "cells": {
             "fill": {
              "color": "#EBF0F8"
             },
             "line": {
              "color": "white"
             }
            },
            "header": {
             "fill": {
              "color": "#C8D4E3"
             },
             "line": {
              "color": "white"
             }
            },
            "type": "table"
           }
          ]
         },
         "layout": {
          "annotationdefaults": {
           "arrowcolor": "#2a3f5f",
           "arrowhead": 0,
           "arrowwidth": 1
          },
          "autotypenumbers": "strict",
          "coloraxis": {
           "colorbar": {
            "outlinewidth": 0,
            "ticks": ""
           }
          },
          "colorscale": {
           "diverging": [
            [
             0,
             "#8e0152"
            ],
            [
             0.1,
             "#c51b7d"
            ],
            [
             0.2,
             "#de77ae"
            ],
            [
             0.3,
             "#f1b6da"
            ],
            [
             0.4,
             "#fde0ef"
            ],
            [
             0.5,
             "#f7f7f7"
            ],
            [
             0.6,
             "#e6f5d0"
            ],
            [
             0.7,
             "#b8e186"
            ],
            [
             0.8,
             "#7fbc41"
            ],
            [
             0.9,
             "#4d9221"
            ],
            [
             1,
             "#276419"
            ]
           ],
           "sequential": [
            [
             0,
             "#0d0887"
            ],
            [
             0.1111111111111111,
             "#46039f"
            ],
            [
             0.2222222222222222,
             "#7201a8"
            ],
            [
             0.3333333333333333,
             "#9c179e"
            ],
            [
             0.4444444444444444,
             "#bd3786"
            ],
            [
             0.5555555555555556,
             "#d8576b"
            ],
            [
             0.6666666666666666,
             "#ed7953"
            ],
            [
             0.7777777777777778,
             "#fb9f3a"
            ],
            [
             0.8888888888888888,
             "#fdca26"
            ],
            [
             1,
             "#f0f921"
            ]
           ],
           "sequentialminus": [
            [
             0,
             "#0d0887"
            ],
            [
             0.1111111111111111,
             "#46039f"
            ],
            [
             0.2222222222222222,
             "#7201a8"
            ],
            [
             0.3333333333333333,
             "#9c179e"
            ],
            [
             0.4444444444444444,
             "#bd3786"
            ],
            [
             0.5555555555555556,
             "#d8576b"
            ],
            [
             0.6666666666666666,
             "#ed7953"
            ],
            [
             0.7777777777777778,
             "#fb9f3a"
            ],
            [
             0.8888888888888888,
             "#fdca26"
            ],
            [
             1,
             "#f0f921"
            ]
           ]
          },
          "colorway": [
           "#636efa",
           "#EF553B",
           "#00cc96",
           "#ab63fa",
           "#FFA15A",
           "#19d3f3",
           "#FF6692",
           "#B6E880",
           "#FF97FF",
           "#FECB52"
          ],
          "font": {
           "color": "#2a3f5f"
          },
          "geo": {
           "bgcolor": "white",
           "lakecolor": "white",
           "landcolor": "#E5ECF6",
           "showlakes": true,
           "showland": true,
           "subunitcolor": "white"
          },
          "hoverlabel": {
           "align": "left"
          },
          "hovermode": "closest",
          "mapbox": {
           "style": "light"
          },
          "paper_bgcolor": "white",
          "plot_bgcolor": "#E5ECF6",
          "polar": {
           "angularaxis": {
            "gridcolor": "white",
            "linecolor": "white",
            "ticks": ""
           },
           "bgcolor": "#E5ECF6",
           "radialaxis": {
            "gridcolor": "white",
            "linecolor": "white",
            "ticks": ""
           }
          },
          "scene": {
           "xaxis": {
            "backgroundcolor": "#E5ECF6",
            "gridcolor": "white",
            "gridwidth": 2,
            "linecolor": "white",
            "showbackground": true,
            "ticks": "",
            "zerolinecolor": "white"
           },
           "yaxis": {
            "backgroundcolor": "#E5ECF6",
            "gridcolor": "white",
            "gridwidth": 2,
            "linecolor": "white",
            "showbackground": true,
            "ticks": "",
            "zerolinecolor": "white"
           },
           "zaxis": {
            "backgroundcolor": "#E5ECF6",
            "gridcolor": "white",
            "gridwidth": 2,
            "linecolor": "white",
            "showbackground": true,
            "ticks": "",
            "zerolinecolor": "white"
           }
          },
          "shapedefaults": {
           "line": {
            "color": "#2a3f5f"
           }
          },
          "ternary": {
           "aaxis": {
            "gridcolor": "white",
            "linecolor": "white",
            "ticks": ""
           },
           "baxis": {
            "gridcolor": "white",
            "linecolor": "white",
            "ticks": ""
           },
           "bgcolor": "#E5ECF6",
           "caxis": {
            "gridcolor": "white",
            "linecolor": "white",
            "ticks": ""
           }
          },
          "title": {
           "x": 0.05
          },
          "xaxis": {
           "automargin": true,
           "gridcolor": "white",
           "linecolor": "white",
           "ticks": "",
           "title": {
            "standoff": 15
           },
           "zerolinecolor": "white",
           "zerolinewidth": 2
          },
          "yaxis": {
           "automargin": true,
           "gridcolor": "white",
           "linecolor": "white",
           "ticks": "",
           "title": {
            "standoff": 15
           },
           "zerolinecolor": "white",
           "zerolinewidth": 2
          }
         }
        },
        "title": {
         "text": "Airbnb Prices per Night (Excluding Outliers)"
        },
        "width": 1200,
        "xaxis": {
         "title": {
          "text": "City"
         }
        },
        "yaxis": {
         "title": {
          "text": "Price (EUR)"
         }
        }
       }
      }
     },
     "metadata": {},
     "output_type": "display_data"
    }
   ],
   "source": [
    "# Calculate stats for each city\n",
    "prices_df = calculate_stats(dataframe_currency)\n",
    "\n",
    "# Create a grouped bar chart using Plotly Graph Objects\n",
    "fig = go.Figure()\n",
    "\n",
    "# Add bars for min, max, and mean prices\n",
    "fig.add_trace(go.Bar(\n",
    "    x=prices_df['city'],\n",
    "    y=prices_df['min_price'],\n",
    "    name='Min Price',\n",
    "    marker_color='blue',\n",
    "    text=prices_df['min_price'],\n",
    "    textposition='outside'\n",
    "))\n",
    "\n",
    "fig.add_trace(go.Bar(\n",
    "    x=prices_df['city'],\n",
    "    y=prices_df['max_price'],\n",
    "    name='Max Price',\n",
    "    marker_color='orange',\n",
    "    text=prices_df['max_price'],\n",
    "    textposition='outside'\n",
    "))\n",
    "\n",
    "fig.add_trace(go.Bar(\n",
    "    x=prices_df['city'],\n",
    "    y=prices_df['mean_price'],\n",
    "    name='Mean Price',\n",
    "    marker_color='green',\n",
    "    text=prices_df['mean_price'],\n",
    "    textposition='outside'\n",
    "))\n",
    "\n",
    "# Update layout\n",
    "fig.update_layout(\n",
    "    title='Airbnb Prices per Night (Excluding Outliers)',\n",
    "    xaxis_title='City',\n",
    "    yaxis_title='Price (EUR)',\n",
    "    barmode='group',  # Group bars\n",
    "    width=1200,  # Adjust the width as needed\n",
    "    height=600 \n",
    ")\n",
    "\n",
    "# Show the plot\n",
    "fig.show()"
   ]
  },
  {
   "cell_type": "markdown",
   "metadata": {},
   "source": [
    "#### Looking at price trends for each city over the quarters"
   ]
  },
  {
   "cell_type": "code",
   "execution_count": 414,
   "metadata": {},
   "outputs": [],
   "source": [
    "#Create average price comparison between Q1 2024 and Q4 2023 and Q3 2023 and Q2 2023\n",
    "\n",
    "# Filter the data for Q1 2024 and Q3 2023\n",
    "q1_2024 = dataframe_currency[dataframe_currency['quarter'] == 'Q1_24']\n",
    "q3_2023 = dataframe_currency[dataframe_currency['quarter'] == 'Q3_23']\n",
    "q2_2023 = dataframe_currency[dataframe_currency['quarter'] == 'Q2_23']\n",
    "q4_2023 = dataframe_currency[dataframe_currency['quarter'] == 'Q4_23']\n",
    "\n",
    "\n",
    "# Calculate the average price for each city in Q1 2024\n",
    "avg_price_q1_2024 = q1_2024.groupby('city')['price_in_eur'].mean().reset_index()\n",
    "\n",
    "# Calculate the average price for each city in Q4 2023\n",
    "avg_price_q4_2023 = q4_2023.groupby('city')['price_in_eur'].mean().reset_index()\n",
    "\n",
    "# Calculate the average price for each city in Q3 2023\n",
    "avg_price_q3_2023 = q3_2023.groupby('city')['price_in_eur'].mean().reset_index()\n",
    "\n",
    "# Calculate the average price for each city in Q2 2023\n",
    "avg_price_q2_2023 = q2_2023.groupby('city')['price_in_eur'].mean().reset_index()\n",
    "\n",
    "#Merge all four dataframes\n",
    "avg_price_comparison = pd.merge(avg_price_q1_2024, avg_price_q4_2023, on='city', suffixes=('_q1_2024', '_q4_2023'))\n",
    "avg_price_comparison = pd.merge(avg_price_comparison, avg_price_q3_2023, on='city')\n",
    "avg_price_comparison = pd.merge(avg_price_comparison, avg_price_q2_2023, on='city', suffixes=('_q3_2023', '_q2_2023'))\n"
   ]
  },
  {
   "cell_type": "code",
   "execution_count": 421,
   "metadata": {},
   "outputs": [
    {
     "data": {
      "text/html": [
       "<div>\n",
       "<style scoped>\n",
       "    .dataframe tbody tr th:only-of-type {\n",
       "        vertical-align: middle;\n",
       "    }\n",
       "\n",
       "    .dataframe tbody tr th {\n",
       "        vertical-align: top;\n",
       "    }\n",
       "\n",
       "    .dataframe thead th {\n",
       "        text-align: right;\n",
       "    }\n",
       "</style>\n",
       "<table border=\"1\" class=\"dataframe\">\n",
       "  <thead>\n",
       "    <tr style=\"text-align: right;\">\n",
       "      <th></th>\n",
       "      <th>city</th>\n",
       "      <th>price_in_eur_q1_2024</th>\n",
       "      <th>price_in_eur_q4_2023</th>\n",
       "      <th>price_in_eur_q3_2023</th>\n",
       "      <th>price_in_eur_q2_2023</th>\n",
       "    </tr>\n",
       "  </thead>\n",
       "  <tbody>\n",
       "    <tr>\n",
       "      <th>0</th>\n",
       "      <td>Barcelona</td>\n",
       "      <td>146.488264</td>\n",
       "      <td>126.494083</td>\n",
       "      <td>162.802389</td>\n",
       "      <td>177.700273</td>\n",
       "    </tr>\n",
       "    <tr>\n",
       "      <th>1</th>\n",
       "      <td>Istanbul</td>\n",
       "      <td>93.043597</td>\n",
       "      <td>81.729174</td>\n",
       "      <td>75.972003</td>\n",
       "      <td>74.250351</td>\n",
       "    </tr>\n",
       "    <tr>\n",
       "      <th>2</th>\n",
       "      <td>London</td>\n",
       "      <td>213.213122</td>\n",
       "      <td>215.424923</td>\n",
       "      <td>214.495241</td>\n",
       "      <td>221.836108</td>\n",
       "    </tr>\n",
       "    <tr>\n",
       "      <th>3</th>\n",
       "      <td>Madrid</td>\n",
       "      <td>137.574294</td>\n",
       "      <td>129.016058</td>\n",
       "      <td>129.157000</td>\n",
       "      <td>149.114706</td>\n",
       "    </tr>\n",
       "    <tr>\n",
       "      <th>4</th>\n",
       "      <td>Paris</td>\n",
       "      <td>288.665830</td>\n",
       "      <td>221.161739</td>\n",
       "      <td>205.105914</td>\n",
       "      <td>198.103275</td>\n",
       "    </tr>\n",
       "    <tr>\n",
       "      <th>5</th>\n",
       "      <td>Rome</td>\n",
       "      <td>186.792302</td>\n",
       "      <td>172.378912</td>\n",
       "      <td>207.733312</td>\n",
       "      <td>230.872310</td>\n",
       "    </tr>\n",
       "  </tbody>\n",
       "</table>\n",
       "</div>"
      ],
      "text/plain": [
       "        city  price_in_eur_q1_2024  price_in_eur_q4_2023  \\\n",
       "0  Barcelona            146.488264            126.494083   \n",
       "1   Istanbul             93.043597             81.729174   \n",
       "2     London            213.213122            215.424923   \n",
       "3     Madrid            137.574294            129.016058   \n",
       "4      Paris            288.665830            221.161739   \n",
       "5       Rome            186.792302            172.378912   \n",
       "\n",
       "   price_in_eur_q3_2023  price_in_eur_q2_2023  \n",
       "0            162.802389            177.700273  \n",
       "1             75.972003             74.250351  \n",
       "2            214.495241            221.836108  \n",
       "3            129.157000            149.114706  \n",
       "4            205.105914            198.103275  \n",
       "5            207.733312            230.872310  "
      ]
     },
     "execution_count": 421,
     "metadata": {},
     "output_type": "execute_result"
    }
   ],
   "source": [
    "avg_price_comparison"
   ]
  },
  {
   "cell_type": "code",
   "execution_count": 425,
   "metadata": {},
   "outputs": [
    {
     "data": {
      "text/html": [
       "<div>\n",
       "<style scoped>\n",
       "    .dataframe tbody tr th:only-of-type {\n",
       "        vertical-align: middle;\n",
       "    }\n",
       "\n",
       "    .dataframe tbody tr th {\n",
       "        vertical-align: top;\n",
       "    }\n",
       "\n",
       "    .dataframe thead th {\n",
       "        text-align: right;\n",
       "    }\n",
       "</style>\n",
       "<table border=\"1\" class=\"dataframe\">\n",
       "  <thead>\n",
       "    <tr style=\"text-align: right;\">\n",
       "      <th></th>\n",
       "      <th>city</th>\n",
       "      <th>price_in_eur_q1_2024</th>\n",
       "      <th>price_in_eur_q4_2023</th>\n",
       "      <th>price_in_eur_q3_2023</th>\n",
       "      <th>price_in_eur_q2_2023</th>\n",
       "    </tr>\n",
       "  </thead>\n",
       "  <tbody>\n",
       "    <tr>\n",
       "      <th>0</th>\n",
       "      <td>Barcelona</td>\n",
       "      <td>146.488264</td>\n",
       "      <td>126.494083</td>\n",
       "      <td>162.802389</td>\n",
       "      <td>177.700273</td>\n",
       "    </tr>\n",
       "    <tr>\n",
       "      <th>1</th>\n",
       "      <td>Istanbul</td>\n",
       "      <td>93.043597</td>\n",
       "      <td>81.729174</td>\n",
       "      <td>75.972003</td>\n",
       "      <td>74.250351</td>\n",
       "    </tr>\n",
       "    <tr>\n",
       "      <th>2</th>\n",
       "      <td>London</td>\n",
       "      <td>213.213122</td>\n",
       "      <td>215.424923</td>\n",
       "      <td>214.495241</td>\n",
       "      <td>221.836108</td>\n",
       "    </tr>\n",
       "    <tr>\n",
       "      <th>3</th>\n",
       "      <td>Madrid</td>\n",
       "      <td>137.574294</td>\n",
       "      <td>129.016058</td>\n",
       "      <td>129.157000</td>\n",
       "      <td>149.114706</td>\n",
       "    </tr>\n",
       "    <tr>\n",
       "      <th>4</th>\n",
       "      <td>Paris</td>\n",
       "      <td>288.665830</td>\n",
       "      <td>221.161739</td>\n",
       "      <td>205.105914</td>\n",
       "      <td>198.103275</td>\n",
       "    </tr>\n",
       "    <tr>\n",
       "      <th>5</th>\n",
       "      <td>Rome</td>\n",
       "      <td>186.792302</td>\n",
       "      <td>172.378912</td>\n",
       "      <td>207.733312</td>\n",
       "      <td>230.872310</td>\n",
       "    </tr>\n",
       "  </tbody>\n",
       "</table>\n",
       "</div>"
      ],
      "text/plain": [
       "        city  price_in_eur_q1_2024  price_in_eur_q4_2023  \\\n",
       "0  Barcelona            146.488264            126.494083   \n",
       "1   Istanbul             93.043597             81.729174   \n",
       "2     London            213.213122            215.424923   \n",
       "3     Madrid            137.574294            129.016058   \n",
       "4      Paris            288.665830            221.161739   \n",
       "5       Rome            186.792302            172.378912   \n",
       "\n",
       "   price_in_eur_q3_2023  price_in_eur_q2_2023  \n",
       "0            162.802389            177.700273  \n",
       "1             75.972003             74.250351  \n",
       "2            214.495241            221.836108  \n",
       "3            129.157000            149.114706  \n",
       "4            205.105914            198.103275  \n",
       "5            207.733312            230.872310  "
      ]
     },
     "execution_count": 425,
     "metadata": {},
     "output_type": "execute_result"
    }
   ],
   "source": [
    "#make into a dataframe\n",
    "avg_price_comparison = pd.DataFrame(avg_price_comparison)\n",
    "avg_price_comparison\n",
    "av"
   ]
  },
  {
   "cell_type": "markdown",
   "metadata": {},
   "source": [
    "#### Visualising the average price comparison between Q1 2024 and Q4 2023 and Q3 2023 and Q2 2023"
   ]
  },
  {
   "cell_type": "code",
   "execution_count": 426,
   "metadata": {},
   "outputs": [
    {
     "data": {
      "application/vnd.plotly.v1+json": {
       "config": {
        "plotlyServerURL": "https://plot.ly"
       },
       "data": [
        {
         "hovertemplate": "city=Barcelona<br>quarter=%{x}<br>price=%{y}<extra></extra>",
         "legendgroup": "Barcelona",
         "line": {
          "color": "#636efa",
          "dash": "solid"
         },
         "marker": {
          "symbol": "circle"
         },
         "mode": "lines+markers",
         "name": "Barcelona",
         "orientation": "v",
         "showlegend": true,
         "type": "scatter",
         "x": [
          "q1_2024",
          "q4_2023",
          "q3_2023",
          "q2_2023"
         ],
         "xaxis": "x",
         "y": [
          146.48826419213972,
          126.49408320876933,
          162.80238858785802,
          177.70027279586742
         ],
         "yaxis": "y"
        },
        {
         "hovertemplate": "city=Istanbul<br>quarter=%{x}<br>price=%{y}<extra></extra>",
         "legendgroup": "Istanbul",
         "line": {
          "color": "#EF553B",
          "dash": "solid"
         },
         "marker": {
          "symbol": "circle"
         },
         "mode": "lines+markers",
         "name": "Istanbul",
         "orientation": "v",
         "showlegend": true,
         "type": "scatter",
         "x": [
          "q1_2024",
          "q4_2023",
          "q3_2023",
          "q2_2023"
         ],
         "xaxis": "x",
         "y": [
          93.04359710374646,
          81.7291737410388,
          75.97200324242338,
          74.25035132366425
         ],
         "yaxis": "y"
        },
        {
         "hovertemplate": "city=London<br>quarter=%{x}<br>price=%{y}<extra></extra>",
         "legendgroup": "London",
         "line": {
          "color": "#00cc96",
          "dash": "solid"
         },
         "marker": {
          "symbol": "circle"
         },
         "mode": "lines+markers",
         "name": "London",
         "orientation": "v",
         "showlegend": true,
         "type": "scatter",
         "x": [
          "q1_2024",
          "q4_2023",
          "q3_2023",
          "q2_2023"
         ],
         "xaxis": "x",
         "y": [
          213.21312194079874,
          215.42492329179305,
          214.49524112516522,
          221.83610754114034
         ],
         "yaxis": "y"
        },
        {
         "hovertemplate": "city=Madrid<br>quarter=%{x}<br>price=%{y}<extra></extra>",
         "legendgroup": "Madrid",
         "line": {
          "color": "#ab63fa",
          "dash": "solid"
         },
         "marker": {
          "symbol": "circle"
         },
         "mode": "lines+markers",
         "name": "Madrid",
         "orientation": "v",
         "showlegend": true,
         "type": "scatter",
         "x": [
          "q1_2024",
          "q4_2023",
          "q3_2023",
          "q2_2023"
         ],
         "xaxis": "x",
         "y": [
          137.5742942768755,
          129.01605778963835,
          129.1570001611084,
          149.11470600739764
         ],
         "yaxis": "y"
        },
        {
         "hovertemplate": "city=Paris<br>quarter=%{x}<br>price=%{y}<extra></extra>",
         "legendgroup": "Paris",
         "line": {
          "color": "#FFA15A",
          "dash": "solid"
         },
         "marker": {
          "symbol": "circle"
         },
         "mode": "lines+markers",
         "name": "Paris",
         "orientation": "v",
         "showlegend": true,
         "type": "scatter",
         "x": [
          "q1_2024",
          "q4_2023",
          "q3_2023",
          "q2_2023"
         ],
         "xaxis": "x",
         "y": [
          288.6658298408489,
          221.16173928592715,
          205.10591386771068,
          198.10327496757458
         ],
         "yaxis": "y"
        },
        {
         "hovertemplate": "city=Rome<br>quarter=%{x}<br>price=%{y}<extra></extra>",
         "legendgroup": "Rome",
         "line": {
          "color": "#19d3f3",
          "dash": "solid"
         },
         "marker": {
          "symbol": "circle"
         },
         "mode": "lines+markers",
         "name": "Rome",
         "orientation": "v",
         "showlegend": true,
         "type": "scatter",
         "x": [
          "q1_2024",
          "q4_2023",
          "q3_2023",
          "q2_2023"
         ],
         "xaxis": "x",
         "y": [
          186.79230221489337,
          172.3789123845002,
          207.73331191547084,
          230.87230962629994
         ],
         "yaxis": "y"
        }
       ],
       "layout": {
        "legend": {
         "title": {
          "text": "city"
         },
         "tracegroupgap": 0
        },
        "template": {
         "data": {
          "bar": [
           {
            "error_x": {
             "color": "#2a3f5f"
            },
            "error_y": {
             "color": "#2a3f5f"
            },
            "marker": {
             "line": {
              "color": "#E5ECF6",
              "width": 0.5
             },
             "pattern": {
              "fillmode": "overlay",
              "size": 10,
              "solidity": 0.2
             }
            },
            "type": "bar"
           }
          ],
          "barpolar": [
           {
            "marker": {
             "line": {
              "color": "#E5ECF6",
              "width": 0.5
             },
             "pattern": {
              "fillmode": "overlay",
              "size": 10,
              "solidity": 0.2
             }
            },
            "type": "barpolar"
           }
          ],
          "carpet": [
           {
            "aaxis": {
             "endlinecolor": "#2a3f5f",
             "gridcolor": "white",
             "linecolor": "white",
             "minorgridcolor": "white",
             "startlinecolor": "#2a3f5f"
            },
            "baxis": {
             "endlinecolor": "#2a3f5f",
             "gridcolor": "white",
             "linecolor": "white",
             "minorgridcolor": "white",
             "startlinecolor": "#2a3f5f"
            },
            "type": "carpet"
           }
          ],
          "choropleth": [
           {
            "colorbar": {
             "outlinewidth": 0,
             "ticks": ""
            },
            "type": "choropleth"
           }
          ],
          "contour": [
           {
            "colorbar": {
             "outlinewidth": 0,
             "ticks": ""
            },
            "colorscale": [
             [
              0,
              "#0d0887"
             ],
             [
              0.1111111111111111,
              "#46039f"
             ],
             [
              0.2222222222222222,
              "#7201a8"
             ],
             [
              0.3333333333333333,
              "#9c179e"
             ],
             [
              0.4444444444444444,
              "#bd3786"
             ],
             [
              0.5555555555555556,
              "#d8576b"
             ],
             [
              0.6666666666666666,
              "#ed7953"
             ],
             [
              0.7777777777777778,
              "#fb9f3a"
             ],
             [
              0.8888888888888888,
              "#fdca26"
             ],
             [
              1,
              "#f0f921"
             ]
            ],
            "type": "contour"
           }
          ],
          "contourcarpet": [
           {
            "colorbar": {
             "outlinewidth": 0,
             "ticks": ""
            },
            "type": "contourcarpet"
           }
          ],
          "heatmap": [
           {
            "colorbar": {
             "outlinewidth": 0,
             "ticks": ""
            },
            "colorscale": [
             [
              0,
              "#0d0887"
             ],
             [
              0.1111111111111111,
              "#46039f"
             ],
             [
              0.2222222222222222,
              "#7201a8"
             ],
             [
              0.3333333333333333,
              "#9c179e"
             ],
             [
              0.4444444444444444,
              "#bd3786"
             ],
             [
              0.5555555555555556,
              "#d8576b"
             ],
             [
              0.6666666666666666,
              "#ed7953"
             ],
             [
              0.7777777777777778,
              "#fb9f3a"
             ],
             [
              0.8888888888888888,
              "#fdca26"
             ],
             [
              1,
              "#f0f921"
             ]
            ],
            "type": "heatmap"
           }
          ],
          "heatmapgl": [
           {
            "colorbar": {
             "outlinewidth": 0,
             "ticks": ""
            },
            "colorscale": [
             [
              0,
              "#0d0887"
             ],
             [
              0.1111111111111111,
              "#46039f"
             ],
             [
              0.2222222222222222,
              "#7201a8"
             ],
             [
              0.3333333333333333,
              "#9c179e"
             ],
             [
              0.4444444444444444,
              "#bd3786"
             ],
             [
              0.5555555555555556,
              "#d8576b"
             ],
             [
              0.6666666666666666,
              "#ed7953"
             ],
             [
              0.7777777777777778,
              "#fb9f3a"
             ],
             [
              0.8888888888888888,
              "#fdca26"
             ],
             [
              1,
              "#f0f921"
             ]
            ],
            "type": "heatmapgl"
           }
          ],
          "histogram": [
           {
            "marker": {
             "pattern": {
              "fillmode": "overlay",
              "size": 10,
              "solidity": 0.2
             }
            },
            "type": "histogram"
           }
          ],
          "histogram2d": [
           {
            "colorbar": {
             "outlinewidth": 0,
             "ticks": ""
            },
            "colorscale": [
             [
              0,
              "#0d0887"
             ],
             [
              0.1111111111111111,
              "#46039f"
             ],
             [
              0.2222222222222222,
              "#7201a8"
             ],
             [
              0.3333333333333333,
              "#9c179e"
             ],
             [
              0.4444444444444444,
              "#bd3786"
             ],
             [
              0.5555555555555556,
              "#d8576b"
             ],
             [
              0.6666666666666666,
              "#ed7953"
             ],
             [
              0.7777777777777778,
              "#fb9f3a"
             ],
             [
              0.8888888888888888,
              "#fdca26"
             ],
             [
              1,
              "#f0f921"
             ]
            ],
            "type": "histogram2d"
           }
          ],
          "histogram2dcontour": [
           {
            "colorbar": {
             "outlinewidth": 0,
             "ticks": ""
            },
            "colorscale": [
             [
              0,
              "#0d0887"
             ],
             [
              0.1111111111111111,
              "#46039f"
             ],
             [
              0.2222222222222222,
              "#7201a8"
             ],
             [
              0.3333333333333333,
              "#9c179e"
             ],
             [
              0.4444444444444444,
              "#bd3786"
             ],
             [
              0.5555555555555556,
              "#d8576b"
             ],
             [
              0.6666666666666666,
              "#ed7953"
             ],
             [
              0.7777777777777778,
              "#fb9f3a"
             ],
             [
              0.8888888888888888,
              "#fdca26"
             ],
             [
              1,
              "#f0f921"
             ]
            ],
            "type": "histogram2dcontour"
           }
          ],
          "mesh3d": [
           {
            "colorbar": {
             "outlinewidth": 0,
             "ticks": ""
            },
            "type": "mesh3d"
           }
          ],
          "parcoords": [
           {
            "line": {
             "colorbar": {
              "outlinewidth": 0,
              "ticks": ""
             }
            },
            "type": "parcoords"
           }
          ],
          "pie": [
           {
            "automargin": true,
            "type": "pie"
           }
          ],
          "scatter": [
           {
            "fillpattern": {
             "fillmode": "overlay",
             "size": 10,
             "solidity": 0.2
            },
            "type": "scatter"
           }
          ],
          "scatter3d": [
           {
            "line": {
             "colorbar": {
              "outlinewidth": 0,
              "ticks": ""
             }
            },
            "marker": {
             "colorbar": {
              "outlinewidth": 0,
              "ticks": ""
             }
            },
            "type": "scatter3d"
           }
          ],
          "scattercarpet": [
           {
            "marker": {
             "colorbar": {
              "outlinewidth": 0,
              "ticks": ""
             }
            },
            "type": "scattercarpet"
           }
          ],
          "scattergeo": [
           {
            "marker": {
             "colorbar": {
              "outlinewidth": 0,
              "ticks": ""
             }
            },
            "type": "scattergeo"
           }
          ],
          "scattergl": [
           {
            "marker": {
             "colorbar": {
              "outlinewidth": 0,
              "ticks": ""
             }
            },
            "type": "scattergl"
           }
          ],
          "scattermapbox": [
           {
            "marker": {
             "colorbar": {
              "outlinewidth": 0,
              "ticks": ""
             }
            },
            "type": "scattermapbox"
           }
          ],
          "scatterpolar": [
           {
            "marker": {
             "colorbar": {
              "outlinewidth": 0,
              "ticks": ""
             }
            },
            "type": "scatterpolar"
           }
          ],
          "scatterpolargl": [
           {
            "marker": {
             "colorbar": {
              "outlinewidth": 0,
              "ticks": ""
             }
            },
            "type": "scatterpolargl"
           }
          ],
          "scatterternary": [
           {
            "marker": {
             "colorbar": {
              "outlinewidth": 0,
              "ticks": ""
             }
            },
            "type": "scatterternary"
           }
          ],
          "surface": [
           {
            "colorbar": {
             "outlinewidth": 0,
             "ticks": ""
            },
            "colorscale": [
             [
              0,
              "#0d0887"
             ],
             [
              0.1111111111111111,
              "#46039f"
             ],
             [
              0.2222222222222222,
              "#7201a8"
             ],
             [
              0.3333333333333333,
              "#9c179e"
             ],
             [
              0.4444444444444444,
              "#bd3786"
             ],
             [
              0.5555555555555556,
              "#d8576b"
             ],
             [
              0.6666666666666666,
              "#ed7953"
             ],
             [
              0.7777777777777778,
              "#fb9f3a"
             ],
             [
              0.8888888888888888,
              "#fdca26"
             ],
             [
              1,
              "#f0f921"
             ]
            ],
            "type": "surface"
           }
          ],
          "table": [
           {
            "cells": {
             "fill": {
              "color": "#EBF0F8"
             },
             "line": {
              "color": "white"
             }
            },
            "header": {
             "fill": {
              "color": "#C8D4E3"
             },
             "line": {
              "color": "white"
             }
            },
            "type": "table"
           }
          ]
         },
         "layout": {
          "annotationdefaults": {
           "arrowcolor": "#2a3f5f",
           "arrowhead": 0,
           "arrowwidth": 1
          },
          "autotypenumbers": "strict",
          "coloraxis": {
           "colorbar": {
            "outlinewidth": 0,
            "ticks": ""
           }
          },
          "colorscale": {
           "diverging": [
            [
             0,
             "#8e0152"
            ],
            [
             0.1,
             "#c51b7d"
            ],
            [
             0.2,
             "#de77ae"
            ],
            [
             0.3,
             "#f1b6da"
            ],
            [
             0.4,
             "#fde0ef"
            ],
            [
             0.5,
             "#f7f7f7"
            ],
            [
             0.6,
             "#e6f5d0"
            ],
            [
             0.7,
             "#b8e186"
            ],
            [
             0.8,
             "#7fbc41"
            ],
            [
             0.9,
             "#4d9221"
            ],
            [
             1,
             "#276419"
            ]
           ],
           "sequential": [
            [
             0,
             "#0d0887"
            ],
            [
             0.1111111111111111,
             "#46039f"
            ],
            [
             0.2222222222222222,
             "#7201a8"
            ],
            [
             0.3333333333333333,
             "#9c179e"
            ],
            [
             0.4444444444444444,
             "#bd3786"
            ],
            [
             0.5555555555555556,
             "#d8576b"
            ],
            [
             0.6666666666666666,
             "#ed7953"
            ],
            [
             0.7777777777777778,
             "#fb9f3a"
            ],
            [
             0.8888888888888888,
             "#fdca26"
            ],
            [
             1,
             "#f0f921"
            ]
           ],
           "sequentialminus": [
            [
             0,
             "#0d0887"
            ],
            [
             0.1111111111111111,
             "#46039f"
            ],
            [
             0.2222222222222222,
             "#7201a8"
            ],
            [
             0.3333333333333333,
             "#9c179e"
            ],
            [
             0.4444444444444444,
             "#bd3786"
            ],
            [
             0.5555555555555556,
             "#d8576b"
            ],
            [
             0.6666666666666666,
             "#ed7953"
            ],
            [
             0.7777777777777778,
             "#fb9f3a"
            ],
            [
             0.8888888888888888,
             "#fdca26"
            ],
            [
             1,
             "#f0f921"
            ]
           ]
          },
          "colorway": [
           "#636efa",
           "#EF553B",
           "#00cc96",
           "#ab63fa",
           "#FFA15A",
           "#19d3f3",
           "#FF6692",
           "#B6E880",
           "#FF97FF",
           "#FECB52"
          ],
          "font": {
           "color": "#2a3f5f"
          },
          "geo": {
           "bgcolor": "white",
           "lakecolor": "white",
           "landcolor": "#E5ECF6",
           "showlakes": true,
           "showland": true,
           "subunitcolor": "white"
          },
          "hoverlabel": {
           "align": "left"
          },
          "hovermode": "closest",
          "mapbox": {
           "style": "light"
          },
          "paper_bgcolor": "white",
          "plot_bgcolor": "#E5ECF6",
          "polar": {
           "angularaxis": {
            "gridcolor": "white",
            "linecolor": "white",
            "ticks": ""
           },
           "bgcolor": "#E5ECF6",
           "radialaxis": {
            "gridcolor": "white",
            "linecolor": "white",
            "ticks": ""
           }
          },
          "scene": {
           "xaxis": {
            "backgroundcolor": "#E5ECF6",
            "gridcolor": "white",
            "gridwidth": 2,
            "linecolor": "white",
            "showbackground": true,
            "ticks": "",
            "zerolinecolor": "white"
           },
           "yaxis": {
            "backgroundcolor": "#E5ECF6",
            "gridcolor": "white",
            "gridwidth": 2,
            "linecolor": "white",
            "showbackground": true,
            "ticks": "",
            "zerolinecolor": "white"
           },
           "zaxis": {
            "backgroundcolor": "#E5ECF6",
            "gridcolor": "white",
            "gridwidth": 2,
            "linecolor": "white",
            "showbackground": true,
            "ticks": "",
            "zerolinecolor": "white"
           }
          },
          "shapedefaults": {
           "line": {
            "color": "#2a3f5f"
           }
          },
          "ternary": {
           "aaxis": {
            "gridcolor": "white",
            "linecolor": "white",
            "ticks": ""
           },
           "baxis": {
            "gridcolor": "white",
            "linecolor": "white",
            "ticks": ""
           },
           "bgcolor": "#E5ECF6",
           "caxis": {
            "gridcolor": "white",
            "linecolor": "white",
            "ticks": ""
           }
          },
          "title": {
           "x": 0.05
          },
          "xaxis": {
           "automargin": true,
           "gridcolor": "white",
           "linecolor": "white",
           "ticks": "",
           "title": {
            "standoff": 15
           },
           "zerolinecolor": "white",
           "zerolinewidth": 2
          },
          "yaxis": {
           "automargin": true,
           "gridcolor": "white",
           "linecolor": "white",
           "ticks": "",
           "title": {
            "standoff": 15
           },
           "zerolinecolor": "white",
           "zerolinewidth": 2
          }
         }
        },
        "title": {
         "font": {
          "size": 16
         },
         "text": "Price Trends Over Quarters"
        },
        "xaxis": {
         "anchor": "y",
         "domain": [
          0,
          1
         ],
         "title": {
          "font": {
           "size": 14
          },
          "text": "Quarter"
         }
        },
        "yaxis": {
         "anchor": "x",
         "domain": [
          0,
          1
         ],
         "title": {
          "font": {
           "size": 14
          },
          "text": "Price in EUR"
         }
        }
       }
      }
     },
     "metadata": {},
     "output_type": "display_data"
    }
   ],
   "source": [
    "# Melt the DataFrame to long format\n",
    "df_melted = avg_price_comparison.melt(id_vars='city', var_name='quarter', value_name='price')\n",
    "\n",
    "# Convert quarter names to a proper order\n",
    "df_melted['quarter'] = df_melted['quarter'].str.replace('price_in_eur_', '')\n",
    "df_melted['quarter'] = pd.Categorical(df_melted['quarter'], \n",
    "                                      categories=['q2_2023', 'q3_2023', 'q4_2023', 'q1_2024'], \n",
    "                                      ordered=True)\n",
    "\n",
    "# Create a line plot\n",
    "fig = px.line(df_melted, x='quarter', y='price', color='city', markers=True, title='Price Trends Over Quarters')\n",
    "fig.update_layout(\n",
    "    xaxis_title='Quarter',\n",
    "    yaxis_title='Price in EUR',\n",
    "    title_font_size=16,\n",
    "    xaxis_title_font_size=14,\n",
    "    yaxis_title_font_size=14\n",
    ")\n",
    "fig.show()"
   ]
  }
 ],
 "metadata": {
  "kernelspec": {
   "display_name": "base",
   "language": "python",
   "name": "python3"
  },
  "language_info": {
   "codemirror_mode": {
    "name": "ipython",
    "version": 3
   },
   "file_extension": ".py",
   "mimetype": "text/x-python",
   "name": "python",
   "nbconvert_exporter": "python",
   "pygments_lexer": "ipython3",
   "version": "3.12.4"
  }
 },
 "nbformat": 4,
 "nbformat_minor": 2
}
